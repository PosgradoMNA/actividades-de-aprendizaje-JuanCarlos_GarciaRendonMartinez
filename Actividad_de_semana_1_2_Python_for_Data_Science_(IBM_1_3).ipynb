{
  "nbformat": 4,
  "nbformat_minor": 0,
  "metadata": {
    "colab": {
      "provenance": [],
      "authorship_tag": "ABX9TyPyfKbmWQWSPDT9hPqBwxFO",
      "include_colab_link": true
    },
    "kernelspec": {
      "name": "python3",
      "display_name": "Python 3"
    },
    "language_info": {
      "name": "python"
    }
  },
  "cells": [
    {
      "cell_type": "markdown",
      "metadata": {
        "id": "view-in-github",
        "colab_type": "text"
      },
      "source": [
        "<a href=\"https://colab.research.google.com/github/PosgradoMNA/actividades-de-aprendizaje-JuanCarlos_GarciaRendonMartinez/blob/main/Actividad_de_semana_1_2_Python_for_Data_Science_(IBM_1_3).ipynb\" target=\"_parent\"><img src=\"https://colab.research.google.com/assets/colab-badge.svg\" alt=\"Open In Colab\"/></a>"
      ]
    },
    {
      "cell_type": "markdown",
      "source": [
        "# Module 1 - Python Basics"
      ],
      "metadata": {
        "id": "5g30WoXbS1SQ"
      }
    },
    {
      "cell_type": "code",
      "execution_count": 3,
      "metadata": {
        "id": "212jzArQzDKe",
        "colab": {
          "base_uri": "https://localhost:8080/"
        },
        "outputId": "e740c2df-c3bc-4e5a-aa01-013b04030b1d"
      },
      "outputs": [
        {
          "output_type": "stream",
          "name": "stdout",
          "text": [
            "Hello Python 101\n",
            "Hello\n",
            "World!\n"
          ]
        }
      ],
      "source": [
        "#Imprime prueba\n",
        "print(\"Hello Python 101\")\n",
        "print(\"Hello\\nWorld!\")\n",
        "# print('Hello World!')"
      ]
    },
    {
      "cell_type": "code",
      "source": [
        "#Types\n",
        "\n",
        "type(int(1.0))\n",
        "type(bool(1))"
      ],
      "metadata": {
        "id": "7IyUHEItWHSY"
      },
      "execution_count": 16,
      "outputs": []
    },
    {
      "cell_type": "code",
      "source": [
        "#Expressions and Variables\n",
        "\n",
        "50-60\n",
        "25/5\n",
        "25//6\n",
        "2*60+30\n",
        "30+2*60\n",
        "x=43+60+16+41\n",
        "y= x/60\n",
        "y\n",
        "total_min = 43 + 42 \n",
        "total_hr = total_min / 60\n",
        "total_hr"
      ],
      "metadata": {
        "colab": {
          "base_uri": "https://localhost:8080/"
        },
        "id": "bH0o1AsIXXvV",
        "outputId": "471b608f-765c-40cc-d49b-31a3bfc3de8b"
      },
      "execution_count": 27,
      "outputs": [
        {
          "output_type": "execute_result",
          "data": {
            "text/plain": [
              "1.4166666666666667"
            ]
          },
          "metadata": {},
          "execution_count": 27
        }
      ]
    },
    {
      "cell_type": "code",
      "source": [
        "#String Operations\n",
        "\n",
        "Name =\"Michael Jackson\"\n",
        "Name[0]\n",
        "Name[-1]\n",
        "Name[0:4]\n",
        "Name[::2]\n",
        "Name[0:5:2]\n",
        "len(Name)\n",
        "Statement = Name + \" is the best\"\n",
        "Statement\n",
        "3*Name\n",
        "print(\" Michael Jackson \\t is the best\")\n",
        "print(\" Michael Jackson \\\\t is the best\")\n",
        "print(r\" Michael Jackson \\ is the best\")\n",
        "A=\"Thriller is the sixth studio album\"\n",
        "B=A.upper()\n",
        "B\n",
        "A=\"Michael Jackson is the best\"\n",
        "B=A.replace(\"Michael\", \"Janet\")\n",
        "B\n",
        "Name.find(\"el\")\n",
        "Numbers = \"0123456\"\n",
        "Numbers[::2]\n",
        "\"0123456\".find('1')"
      ],
      "metadata": {
        "colab": {
          "base_uri": "https://localhost:8080/"
        },
        "id": "Peiu8PrLYuV6",
        "outputId": "8e844ae3-5f13-4bbf-8cc4-09eb94b485ea"
      },
      "execution_count": 53,
      "outputs": [
        {
          "output_type": "stream",
          "name": "stdout",
          "text": [
            " Michael Jackson \t is the best\n",
            " Michael Jackson \\t is the best\n",
            " Michael Jackson \\ is the best\n"
          ]
        },
        {
          "output_type": "execute_result",
          "data": {
            "text/plain": [
              "1"
            ]
          },
          "metadata": {},
          "execution_count": 53
        }
      ]
    },
    {
      "cell_type": "code",
      "source": [
        "#Review Questions\n",
        "##1. What is the result of the following operation in Python:\n",
        "3 + 2 * 2\n",
        "\n",
        "##2. In Python, if you executed name = 'Lizz', what would be the output of print(name[0:2])?\n",
        "name = \"Lizz\"\n",
        "print(name[0:2])\n",
        "\n",
        "##3. In Python, if you executed var = '01234567', what would be the result of print(var[::2])?\n",
        "var = '01234567'\n",
        "print(var[::2])\n",
        "\n",
        "##4. In Python, what is the result of the following operation '1'+'2'?\n",
        "'1'+'2'\n",
        "\n",
        "##5. Given myvar = 'hello', how would you convert myvar into uppercase?\n",
        "myvar = 'hello'\n",
        "myvar.upper()\n",
        "myvar"
      ],
      "metadata": {
        "colab": {
          "base_uri": "https://localhost:8080/",
          "height": 70
        },
        "id": "GZCuOVKObzx-",
        "outputId": "8af9b744-7bf0-4641-e102-5b5d0037ec5d"
      },
      "execution_count": 58,
      "outputs": [
        {
          "output_type": "stream",
          "name": "stdout",
          "text": [
            "Li\n",
            "0246\n"
          ]
        },
        {
          "output_type": "execute_result",
          "data": {
            "text/plain": [
              "'hello'"
            ],
            "application/vnd.google.colaboratory.intrinsic+json": {
              "type": "string"
            }
          },
          "metadata": {},
          "execution_count": 58
        }
      ]
    },
    {
      "cell_type": "markdown",
      "source": [
        "# Module 2 - Python Data Structures"
      ],
      "metadata": {
        "id": "5gnthUGBThfs"
      }
    },
    {
      "cell_type": "code",
      "source": [
        "#Lists and Tuples\n",
        "\n",
        "Tuple1 =(\"disco\", 10, 1.2)\n",
        "Tuple1[0]\n",
        "Tuple1[-1]\n",
        "tuple2= Tuple1 + (\"hard rock\", 10)\n",
        "tuple2\n",
        "tuple2[0:3]\n",
        "Ratings=(10,9,6,5,10,8,9,6,2)\n",
        "Ratings1=Ratings\n",
        "RatingsSorted=sorted(Ratings)\n",
        "RatingsSorted\n",
        "NT=(1,2,(\"pop\", \"rock\"), (3,4), (\"disco\",(1,2)))\n",
        "NT\n",
        "NT[2][1]\n",
        "\n",
        "L = [\"Michael Jackson\", 10.1, 1982] \n",
        "L[0]\n",
        "L[-2]\n",
        "L[0:2]\n",
        "L1 = L+[\"pop\", 10]\n",
        "L1\n",
        "L.extend([\"pop\",10])\n",
        "L\n",
        "L.append([\"pop\",10])\n",
        "L\n",
        "A=[\"hard rock\", 10, 1.2]\n",
        "del(A[0])\n",
        "A\n",
        "\"hard rock\".split()\n",
        "\n",
        "##How do you access the last element of the following tuple: A=(0,1,2,3)? Select all possible correct answers.\n",
        "A=(0,1,2,3)\n",
        "A[3]\n",
        "A[-1]\n",
        "\n",
        "##Consider the list: B=[\"a\",\"b\",\"c\"]. What is the result of the following B[1:]?\n",
        "B=[\"a\",\"b\",\"c\"]\n",
        "B[1:]\n"
      ],
      "metadata": {
        "colab": {
          "base_uri": "https://localhost:8080/"
        },
        "id": "Qwj75rQ6WF4E",
        "outputId": "c196ad1a-0b52-4e16-bd96-2009d40d2024"
      },
      "execution_count": 96,
      "outputs": [
        {
          "output_type": "execute_result",
          "data": {
            "text/plain": [
              "['b', 'c']"
            ]
          },
          "metadata": {},
          "execution_count": 96
        }
      ]
    },
    {
      "cell_type": "code",
      "source": [
        "#Sets\n",
        "Set1={\"pop\", \"rock\", \"soul\", \"hard rock\", \"rock\"}\n",
        "Set1\n",
        "album_list=[\"Michael Jackson\", \"Thriller\", \"Thriller\", 1982]\n",
        "album_set=set(album_list)\n",
        "album_set\n",
        "A={\"Thriller\", \"Back in Black\", \"AC/DC\"}\n",
        "A.add(\"NSYNC\")\n",
        "A\n",
        "A.remove(\"NSYNC\")\n",
        "A\n",
        "\"AC/DC\" in A\n",
        "\"Who\" in A\n",
        "album_set_1={\"AC/DC\", \"Back in Black\", \"Thriller\"}\n",
        "album_set_2={\"AC/DC\", \"Back in Black\", \"The Dark Side of the Moon\"}\n",
        "album_set_3=album_set_1 & album_set_2\n",
        "album_set_3\n",
        "album_set_1.union(album_set_2)\n",
        "album_set_3.issubset(album_set_1)\n",
        "\n",
        "##What is the result of the following lines of code: S={'A','B','C'} U={'A','Z','C'} U.union(S)\n",
        "S={'A','B','C'} \n",
        "U={'A','Z','C'} \n",
        "U.union(S)\n",
        "\n",
        "##What is the intersection of set S and U? S={'A','B','C'}  U={'A','Z','C'} \n",
        "S={'A','B','C'}  \n",
        "U={'A','Z','C'}\n",
        "S & U"
      ],
      "metadata": {
        "colab": {
          "base_uri": "https://localhost:8080/"
        },
        "id": "XAEdKCQsygzs",
        "outputId": "30090627-1acf-451d-cab0-e88025703bb1"
      },
      "execution_count": 112,
      "outputs": [
        {
          "output_type": "execute_result",
          "data": {
            "text/plain": [
              "{'A', 'C'}"
            ]
          },
          "metadata": {},
          "execution_count": 112
        }
      ]
    },
    {
      "cell_type": "code",
      "source": [
        "#Dictionaries\n",
        "\n",
        "Dict = {\"Thriller\": 1982, \"Back in Black\": 1980, \"The Dark Side of the Moon\": 1973, \"The Bodyguard\": 1992}\n",
        "Dict[\"The Bodyguard\"]\n",
        "Dict[\"Graduation\"]= \"2007\"\n",
        "Dict\n",
        "del(Dict[\"Thriller\"])\n",
        "Dict\n",
        "\"The Bodyguard\" in Dict\n",
        "(\"The Bodyguard\", \"Thriller\") in Dict\n",
        "Dict.keys()\n",
        "Dict.values()\n",
        "\n",
        "##Consider the following dictionary:  D = {'a':0,'b':1,'c':2} What is the result of the following: D.values()?\n",
        "D = {'a':0,'b':1,'c':2} \n",
        "D.values()\n",
        "\n",
        "##Consider the following dictionary: D = {'a':0,'b':1,'c':2} What is the output of the following D['b']?\n",
        "D = {'a':0,'b':1,'c':2}\n",
        "D['b']"
      ],
      "metadata": {
        "colab": {
          "base_uri": "https://localhost:8080/"
        },
        "id": "wKTSoB7R4Ku4",
        "outputId": "ab390876-4e27-4427-8d4f-7558b7667e8c"
      },
      "execution_count": 126,
      "outputs": [
        {
          "output_type": "execute_result",
          "data": {
            "text/plain": [
              "1"
            ]
          },
          "metadata": {},
          "execution_count": 126
        }
      ]
    },
    {
      "cell_type": "code",
      "source": [
        "#Review Questions\n",
        "\n",
        "## What is the syntax used to obtain the first element of the tuple: A = ('a','b','c')\n",
        "A = ('a','b','c')\n",
        "A[0]\n",
        "\n",
        "## After applying the following method, L.append(['a','b']), the following list will only be one element longer.\n",
        "L = [\"x\",\"y\"]\n",
        "L.append(['a','b'])\n",
        "L\n",
        "\n",
        "## How many duplicate elements can you have in a set?\n",
        "\n",
        "\n",
        "## Consider the following Python dictionary: Dict={\"A\":1,\"B\":\"2\",\"C\":[3,3,3],\"D\":(4,4,4),'E':5,'F':6} What is the result of the following operation: Dict[\"D\"]?\n",
        "Dict={\"A\":1,\"B\":\"2\",\"C\":[3,3,3],\"D\":(4,4,4),'E':5,'F':6} \n",
        "Dict[\"D\"]\n",
        "\n",
        "## What is an important difference between lists and tuples?\n",
        "\n"
      ],
      "metadata": {
        "colab": {
          "base_uri": "https://localhost:8080/"
        },
        "id": "J6rJYHZi6EEo",
        "outputId": "900c7916-a141-4081-b57b-c0d06707937d"
      },
      "execution_count": 133,
      "outputs": [
        {
          "output_type": "execute_result",
          "data": {
            "text/plain": [
              "(4, 4, 4)"
            ]
          },
          "metadata": {},
          "execution_count": 133
        }
      ]
    },
    {
      "cell_type": "markdown",
      "source": [
        "#Module 3 - Python Programming Fundamentals"
      ],
      "metadata": {
        "id": "XXbH71RzThWa"
      }
    },
    {
      "cell_type": "code",
      "source": [
        "#Conditions and Branching\n",
        "a=6\n",
        "a==7\n",
        "i=6\n",
        "i>=5\n",
        "i!=6\n",
        "\"AC/DC\" == \"Michael Jackson\"\n",
        "\n",
        "age=19\n",
        "if(age>18):\n",
        "  print(\"you can enter\")\n",
        "else:\n",
        "  print(\"go see Meat Loaf\")\n",
        "print(\"move on\")\n",
        "\n",
        "age=18\n",
        "if(age>18):\n",
        "  print(\"you can enter\")\n",
        "elif(age==18):\n",
        "  print(\"go see Pink Floyd\")\n",
        "else:\n",
        "  print(\"go see Meat Loaf\")\n",
        "print(\"move on\")\n",
        "\n",
        "album_year = 1990\n",
        "if(album_year <1980) or (album_year > 1989):\n",
        "  print(\"The Album was made in the 70s or 90s\")\n",
        "else:\n",
        "  print(\"The Album was made in the 1980s\")\n",
        "\n",
        "##Select the values of i that produces a True for the following: i!=0\n",
        "i=1\n",
        "i!=0\n",
        "\n",
        "##What is the output of the following: \n",
        "#x='a'  \n",
        "#if(x!='a'):\n",
        "#print(\"This is not a.\")\n",
        "#else:\n",
        "#print(\"This is a.\")\n",
        "\n",
        "x='a'  \n",
        "if(x!='a'):\n",
        "  print(\"This is not a.\")\n",
        "else:\n",
        "  print(\"This is a.\")"
      ],
      "metadata": {
        "colab": {
          "base_uri": "https://localhost:8080/"
        },
        "id": "SiYh2zPeWGlA",
        "outputId": "2aeb354d-cc82-4d02-e660-98aaceac95b6"
      },
      "execution_count": 145,
      "outputs": [
        {
          "output_type": "stream",
          "name": "stdout",
          "text": [
            "you can enter\n",
            "move on\n",
            "go see Pink Floyd\n",
            "move on\n",
            "The Album was made in the 70s or 90s\n",
            "This is a.\n"
          ]
        }
      ]
    }
  ]
}