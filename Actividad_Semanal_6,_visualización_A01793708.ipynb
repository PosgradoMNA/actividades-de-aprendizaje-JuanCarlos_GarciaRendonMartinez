{
  "nbformat": 4,
  "nbformat_minor": 0,
  "metadata": {
    "kernelspec": {
      "display_name": "Python 3",
      "language": "python",
      "name": "python3"
    },
    "language_info": {
      "codemirror_mode": {
        "name": "ipython",
        "version": 3
      },
      "file_extension": ".py",
      "mimetype": "text/x-python",
      "name": "python",
      "nbconvert_exporter": "python",
      "pygments_lexer": "ipython3",
      "version": "3.7.7"
    },
    "colab": {
      "provenance": [],
      "collapsed_sections": [],
      "include_colab_link": true
    }
  },
  "cells": [
    {
      "cell_type": "markdown",
      "metadata": {
        "id": "view-in-github",
        "colab_type": "text"
      },
      "source": [
        "<a href=\"https://colab.research.google.com/github/PosgradoMNA/actividades-de-aprendizaje-JuanCarlos_GarciaRendonMartinez/blob/main/Actividad_Semanal_6%2C_visualizaci%C3%B3n_A01793708.ipynb\" target=\"_parent\"><img src=\"https://colab.research.google.com/assets/colab-badge.svg\" alt=\"Open In Colab\"/></a>"
      ]
    },
    {
      "cell_type": "markdown",
      "source": [
        "#**Maestría en Inteligencia Artificial Aplicada**\n",
        "##**Curso: Ciencia y analítica de datos**\n",
        "###Tecnológico de Monterrey\n",
        "###Prof. Titular: María de la Paz Rico Fernández\n",
        "###Prof. Tutor: Bernardo Charles Canales\n",
        "\n",
        "### **Semana 6: Actividad Semanal -- 6, visualización**\n",
        "\n",
        "**Alumno**: Juan Carlos García Rendón Martinez           \n",
        "**Matrícula**: A01793708"
      ],
      "metadata": {
        "id": "uG4n4eWqJtEv"
      }
    },
    {
      "cell_type": "markdown",
      "metadata": {
        "id": "NVteg6r6O-JV"
      },
      "source": [
        "# Bienvenido al notebook\n",
        "1. Descarga los datos https://raw.githubusercontent.com/PosgradoMNA/Actividades_Aprendizaje-/main/default%20of%20credit%20card%20clients.csv y carga el dataset en tu libreta. \n",
        "Descripción : https://raw.githubusercontent.com/PosgradoMNA/Actividades_Aprendizaje-/main/dataset_info.txt\n"
      ]
    },
    {
      "cell_type": "code",
      "source": [
        "# Incluye aquí todos módulos, librerías y paquetes que requieras.\n",
        "# Para obtener los datos\n",
        "import requests\n",
        "import zipfile\n",
        "import io\n",
        "import pandas as pd\n",
        "import numpy as np\n",
        "import scipy.stats as stats\n",
        "from statsmodels.stats.multicomp import pairwise_tukeyhsd\n",
        "\n",
        "\n",
        "# Definir la url de donde obtener los datos:\n",
        "url = 'https://raw.githubusercontent.com/PosgradoMNA/Actividades_Aprendizaje-/main/default%20of%20credit%20card%20clients.csv'\n",
        "\n",
        "# Obtener la respuesta:\n",
        "response = requests.get(url, stream=True)\n",
        "\n",
        "df = pd.read_csv(url, sep=\",\")\n",
        "df\n"
      ],
      "metadata": {
        "colab": {
          "base_uri": "https://localhost:8080/",
          "height": 423
        },
        "id": "uObueDo-jaDQ",
        "outputId": "de2c8019-9bdd-44fb-8fc1-dd27972d2515"
      },
      "execution_count": 1,
      "outputs": [
        {
          "output_type": "execute_result",
          "data": {
            "text/plain": [
              "          ID      X1   X2   X3   X4    X5   X6   X7   X8   X9  ...      X15  \\\n",
              "0          1   20000  2.0  2.0  1.0  24.0  2.0  2.0 -1.0 -1.0  ...      0.0   \n",
              "1          2  120000  2.0  2.0  2.0  26.0 -1.0  2.0  0.0  0.0  ...   3272.0   \n",
              "2          3   90000  2.0  2.0  2.0  34.0  0.0  0.0  0.0  0.0  ...  14331.0   \n",
              "3          4   50000  2.0  2.0  1.0  37.0  0.0  0.0  0.0  0.0  ...  28314.0   \n",
              "4          5   50000  1.0  2.0  1.0  57.0 -1.0  0.0 -1.0  0.0  ...  20940.0   \n",
              "...      ...     ...  ...  ...  ...   ...  ...  ...  ...  ...  ...      ...   \n",
              "29995  29996  220000  1.0  3.0  1.0  39.0  0.0  0.0  0.0  0.0  ...  88004.0   \n",
              "29996  29997  150000  1.0  3.0  2.0  43.0 -1.0 -1.0 -1.0 -1.0  ...   8979.0   \n",
              "29997  29998   30000  1.0  2.0  2.0  37.0  4.0  3.0  2.0 -1.0  ...  20878.0   \n",
              "29998  29999   80000  1.0  3.0  1.0  41.0  1.0 -1.0  0.0  0.0  ...  52774.0   \n",
              "29999  30000   50000  1.0  2.0  1.0  46.0  0.0  0.0  0.0  0.0  ...  36535.0   \n",
              "\n",
              "           X16      X17      X18      X19      X20     X21      X22     X23  \\\n",
              "0          0.0      0.0      0.0    689.0      0.0     0.0      0.0     0.0   \n",
              "1       3455.0   3261.0      0.0   1000.0   1000.0  1000.0      0.0  2000.0   \n",
              "2      14948.0  15549.0   1518.0   1500.0   1000.0  1000.0   1000.0  5000.0   \n",
              "3      28959.0  29547.0   2000.0   2019.0   1200.0  1100.0   1069.0  1000.0   \n",
              "4      19146.0  19131.0   2000.0  36681.0  10000.0  9000.0    689.0   679.0   \n",
              "...        ...      ...      ...      ...      ...     ...      ...     ...   \n",
              "29995  31237.0  15980.0   8500.0  20000.0   5003.0  3047.0   5000.0  1000.0   \n",
              "29996   5190.0      0.0   1837.0   3526.0   8998.0   129.0      0.0     0.0   \n",
              "29997  20582.0  19357.0      0.0      0.0  22000.0  4200.0   2000.0  3100.0   \n",
              "29998  11855.0  48944.0  85900.0   3409.0   1178.0  1926.0  52964.0  1804.0   \n",
              "29999  32428.0  15313.0   2078.0   1800.0   1430.0  1000.0   1000.0  1000.0   \n",
              "\n",
              "         Y  \n",
              "0      1.0  \n",
              "1      1.0  \n",
              "2      0.0  \n",
              "3      0.0  \n",
              "4      0.0  \n",
              "...    ...  \n",
              "29995  0.0  \n",
              "29996  0.0  \n",
              "29997  1.0  \n",
              "29998  1.0  \n",
              "29999  1.0  \n",
              "\n",
              "[30000 rows x 25 columns]"
            ],
            "text/html": [
              "\n",
              "  <div id=\"df-ccbb9336-dd10-4dcb-aa32-603cb781592f\">\n",
              "    <div class=\"colab-df-container\">\n",
              "      <div>\n",
              "<style scoped>\n",
              "    .dataframe tbody tr th:only-of-type {\n",
              "        vertical-align: middle;\n",
              "    }\n",
              "\n",
              "    .dataframe tbody tr th {\n",
              "        vertical-align: top;\n",
              "    }\n",
              "\n",
              "    .dataframe thead th {\n",
              "        text-align: right;\n",
              "    }\n",
              "</style>\n",
              "<table border=\"1\" class=\"dataframe\">\n",
              "  <thead>\n",
              "    <tr style=\"text-align: right;\">\n",
              "      <th></th>\n",
              "      <th>ID</th>\n",
              "      <th>X1</th>\n",
              "      <th>X2</th>\n",
              "      <th>X3</th>\n",
              "      <th>X4</th>\n",
              "      <th>X5</th>\n",
              "      <th>X6</th>\n",
              "      <th>X7</th>\n",
              "      <th>X8</th>\n",
              "      <th>X9</th>\n",
              "      <th>...</th>\n",
              "      <th>X15</th>\n",
              "      <th>X16</th>\n",
              "      <th>X17</th>\n",
              "      <th>X18</th>\n",
              "      <th>X19</th>\n",
              "      <th>X20</th>\n",
              "      <th>X21</th>\n",
              "      <th>X22</th>\n",
              "      <th>X23</th>\n",
              "      <th>Y</th>\n",
              "    </tr>\n",
              "  </thead>\n",
              "  <tbody>\n",
              "    <tr>\n",
              "      <th>0</th>\n",
              "      <td>1</td>\n",
              "      <td>20000</td>\n",
              "      <td>2.0</td>\n",
              "      <td>2.0</td>\n",
              "      <td>1.0</td>\n",
              "      <td>24.0</td>\n",
              "      <td>2.0</td>\n",
              "      <td>2.0</td>\n",
              "      <td>-1.0</td>\n",
              "      <td>-1.0</td>\n",
              "      <td>...</td>\n",
              "      <td>0.0</td>\n",
              "      <td>0.0</td>\n",
              "      <td>0.0</td>\n",
              "      <td>0.0</td>\n",
              "      <td>689.0</td>\n",
              "      <td>0.0</td>\n",
              "      <td>0.0</td>\n",
              "      <td>0.0</td>\n",
              "      <td>0.0</td>\n",
              "      <td>1.0</td>\n",
              "    </tr>\n",
              "    <tr>\n",
              "      <th>1</th>\n",
              "      <td>2</td>\n",
              "      <td>120000</td>\n",
              "      <td>2.0</td>\n",
              "      <td>2.0</td>\n",
              "      <td>2.0</td>\n",
              "      <td>26.0</td>\n",
              "      <td>-1.0</td>\n",
              "      <td>2.0</td>\n",
              "      <td>0.0</td>\n",
              "      <td>0.0</td>\n",
              "      <td>...</td>\n",
              "      <td>3272.0</td>\n",
              "      <td>3455.0</td>\n",
              "      <td>3261.0</td>\n",
              "      <td>0.0</td>\n",
              "      <td>1000.0</td>\n",
              "      <td>1000.0</td>\n",
              "      <td>1000.0</td>\n",
              "      <td>0.0</td>\n",
              "      <td>2000.0</td>\n",
              "      <td>1.0</td>\n",
              "    </tr>\n",
              "    <tr>\n",
              "      <th>2</th>\n",
              "      <td>3</td>\n",
              "      <td>90000</td>\n",
              "      <td>2.0</td>\n",
              "      <td>2.0</td>\n",
              "      <td>2.0</td>\n",
              "      <td>34.0</td>\n",
              "      <td>0.0</td>\n",
              "      <td>0.0</td>\n",
              "      <td>0.0</td>\n",
              "      <td>0.0</td>\n",
              "      <td>...</td>\n",
              "      <td>14331.0</td>\n",
              "      <td>14948.0</td>\n",
              "      <td>15549.0</td>\n",
              "      <td>1518.0</td>\n",
              "      <td>1500.0</td>\n",
              "      <td>1000.0</td>\n",
              "      <td>1000.0</td>\n",
              "      <td>1000.0</td>\n",
              "      <td>5000.0</td>\n",
              "      <td>0.0</td>\n",
              "    </tr>\n",
              "    <tr>\n",
              "      <th>3</th>\n",
              "      <td>4</td>\n",
              "      <td>50000</td>\n",
              "      <td>2.0</td>\n",
              "      <td>2.0</td>\n",
              "      <td>1.0</td>\n",
              "      <td>37.0</td>\n",
              "      <td>0.0</td>\n",
              "      <td>0.0</td>\n",
              "      <td>0.0</td>\n",
              "      <td>0.0</td>\n",
              "      <td>...</td>\n",
              "      <td>28314.0</td>\n",
              "      <td>28959.0</td>\n",
              "      <td>29547.0</td>\n",
              "      <td>2000.0</td>\n",
              "      <td>2019.0</td>\n",
              "      <td>1200.0</td>\n",
              "      <td>1100.0</td>\n",
              "      <td>1069.0</td>\n",
              "      <td>1000.0</td>\n",
              "      <td>0.0</td>\n",
              "    </tr>\n",
              "    <tr>\n",
              "      <th>4</th>\n",
              "      <td>5</td>\n",
              "      <td>50000</td>\n",
              "      <td>1.0</td>\n",
              "      <td>2.0</td>\n",
              "      <td>1.0</td>\n",
              "      <td>57.0</td>\n",
              "      <td>-1.0</td>\n",
              "      <td>0.0</td>\n",
              "      <td>-1.0</td>\n",
              "      <td>0.0</td>\n",
              "      <td>...</td>\n",
              "      <td>20940.0</td>\n",
              "      <td>19146.0</td>\n",
              "      <td>19131.0</td>\n",
              "      <td>2000.0</td>\n",
              "      <td>36681.0</td>\n",
              "      <td>10000.0</td>\n",
              "      <td>9000.0</td>\n",
              "      <td>689.0</td>\n",
              "      <td>679.0</td>\n",
              "      <td>0.0</td>\n",
              "    </tr>\n",
              "    <tr>\n",
              "      <th>...</th>\n",
              "      <td>...</td>\n",
              "      <td>...</td>\n",
              "      <td>...</td>\n",
              "      <td>...</td>\n",
              "      <td>...</td>\n",
              "      <td>...</td>\n",
              "      <td>...</td>\n",
              "      <td>...</td>\n",
              "      <td>...</td>\n",
              "      <td>...</td>\n",
              "      <td>...</td>\n",
              "      <td>...</td>\n",
              "      <td>...</td>\n",
              "      <td>...</td>\n",
              "      <td>...</td>\n",
              "      <td>...</td>\n",
              "      <td>...</td>\n",
              "      <td>...</td>\n",
              "      <td>...</td>\n",
              "      <td>...</td>\n",
              "      <td>...</td>\n",
              "    </tr>\n",
              "    <tr>\n",
              "      <th>29995</th>\n",
              "      <td>29996</td>\n",
              "      <td>220000</td>\n",
              "      <td>1.0</td>\n",
              "      <td>3.0</td>\n",
              "      <td>1.0</td>\n",
              "      <td>39.0</td>\n",
              "      <td>0.0</td>\n",
              "      <td>0.0</td>\n",
              "      <td>0.0</td>\n",
              "      <td>0.0</td>\n",
              "      <td>...</td>\n",
              "      <td>88004.0</td>\n",
              "      <td>31237.0</td>\n",
              "      <td>15980.0</td>\n",
              "      <td>8500.0</td>\n",
              "      <td>20000.0</td>\n",
              "      <td>5003.0</td>\n",
              "      <td>3047.0</td>\n",
              "      <td>5000.0</td>\n",
              "      <td>1000.0</td>\n",
              "      <td>0.0</td>\n",
              "    </tr>\n",
              "    <tr>\n",
              "      <th>29996</th>\n",
              "      <td>29997</td>\n",
              "      <td>150000</td>\n",
              "      <td>1.0</td>\n",
              "      <td>3.0</td>\n",
              "      <td>2.0</td>\n",
              "      <td>43.0</td>\n",
              "      <td>-1.0</td>\n",
              "      <td>-1.0</td>\n",
              "      <td>-1.0</td>\n",
              "      <td>-1.0</td>\n",
              "      <td>...</td>\n",
              "      <td>8979.0</td>\n",
              "      <td>5190.0</td>\n",
              "      <td>0.0</td>\n",
              "      <td>1837.0</td>\n",
              "      <td>3526.0</td>\n",
              "      <td>8998.0</td>\n",
              "      <td>129.0</td>\n",
              "      <td>0.0</td>\n",
              "      <td>0.0</td>\n",
              "      <td>0.0</td>\n",
              "    </tr>\n",
              "    <tr>\n",
              "      <th>29997</th>\n",
              "      <td>29998</td>\n",
              "      <td>30000</td>\n",
              "      <td>1.0</td>\n",
              "      <td>2.0</td>\n",
              "      <td>2.0</td>\n",
              "      <td>37.0</td>\n",
              "      <td>4.0</td>\n",
              "      <td>3.0</td>\n",
              "      <td>2.0</td>\n",
              "      <td>-1.0</td>\n",
              "      <td>...</td>\n",
              "      <td>20878.0</td>\n",
              "      <td>20582.0</td>\n",
              "      <td>19357.0</td>\n",
              "      <td>0.0</td>\n",
              "      <td>0.0</td>\n",
              "      <td>22000.0</td>\n",
              "      <td>4200.0</td>\n",
              "      <td>2000.0</td>\n",
              "      <td>3100.0</td>\n",
              "      <td>1.0</td>\n",
              "    </tr>\n",
              "    <tr>\n",
              "      <th>29998</th>\n",
              "      <td>29999</td>\n",
              "      <td>80000</td>\n",
              "      <td>1.0</td>\n",
              "      <td>3.0</td>\n",
              "      <td>1.0</td>\n",
              "      <td>41.0</td>\n",
              "      <td>1.0</td>\n",
              "      <td>-1.0</td>\n",
              "      <td>0.0</td>\n",
              "      <td>0.0</td>\n",
              "      <td>...</td>\n",
              "      <td>52774.0</td>\n",
              "      <td>11855.0</td>\n",
              "      <td>48944.0</td>\n",
              "      <td>85900.0</td>\n",
              "      <td>3409.0</td>\n",
              "      <td>1178.0</td>\n",
              "      <td>1926.0</td>\n",
              "      <td>52964.0</td>\n",
              "      <td>1804.0</td>\n",
              "      <td>1.0</td>\n",
              "    </tr>\n",
              "    <tr>\n",
              "      <th>29999</th>\n",
              "      <td>30000</td>\n",
              "      <td>50000</td>\n",
              "      <td>1.0</td>\n",
              "      <td>2.0</td>\n",
              "      <td>1.0</td>\n",
              "      <td>46.0</td>\n",
              "      <td>0.0</td>\n",
              "      <td>0.0</td>\n",
              "      <td>0.0</td>\n",
              "      <td>0.0</td>\n",
              "      <td>...</td>\n",
              "      <td>36535.0</td>\n",
              "      <td>32428.0</td>\n",
              "      <td>15313.0</td>\n",
              "      <td>2078.0</td>\n",
              "      <td>1800.0</td>\n",
              "      <td>1430.0</td>\n",
              "      <td>1000.0</td>\n",
              "      <td>1000.0</td>\n",
              "      <td>1000.0</td>\n",
              "      <td>1.0</td>\n",
              "    </tr>\n",
              "  </tbody>\n",
              "</table>\n",
              "<p>30000 rows × 25 columns</p>\n",
              "</div>\n",
              "      <button class=\"colab-df-convert\" onclick=\"convertToInteractive('df-ccbb9336-dd10-4dcb-aa32-603cb781592f')\"\n",
              "              title=\"Convert this dataframe to an interactive table.\"\n",
              "              style=\"display:none;\">\n",
              "        \n",
              "  <svg xmlns=\"http://www.w3.org/2000/svg\" height=\"24px\"viewBox=\"0 0 24 24\"\n",
              "       width=\"24px\">\n",
              "    <path d=\"M0 0h24v24H0V0z\" fill=\"none\"/>\n",
              "    <path d=\"M18.56 5.44l.94 2.06.94-2.06 2.06-.94-2.06-.94-.94-2.06-.94 2.06-2.06.94zm-11 1L8.5 8.5l.94-2.06 2.06-.94-2.06-.94L8.5 2.5l-.94 2.06-2.06.94zm10 10l.94 2.06.94-2.06 2.06-.94-2.06-.94-.94-2.06-.94 2.06-2.06.94z\"/><path d=\"M17.41 7.96l-1.37-1.37c-.4-.4-.92-.59-1.43-.59-.52 0-1.04.2-1.43.59L10.3 9.45l-7.72 7.72c-.78.78-.78 2.05 0 2.83L4 21.41c.39.39.9.59 1.41.59.51 0 1.02-.2 1.41-.59l7.78-7.78 2.81-2.81c.8-.78.8-2.07 0-2.86zM5.41 20L4 18.59l7.72-7.72 1.47 1.35L5.41 20z\"/>\n",
              "  </svg>\n",
              "      </button>\n",
              "      \n",
              "  <style>\n",
              "    .colab-df-container {\n",
              "      display:flex;\n",
              "      flex-wrap:wrap;\n",
              "      gap: 12px;\n",
              "    }\n",
              "\n",
              "    .colab-df-convert {\n",
              "      background-color: #E8F0FE;\n",
              "      border: none;\n",
              "      border-radius: 50%;\n",
              "      cursor: pointer;\n",
              "      display: none;\n",
              "      fill: #1967D2;\n",
              "      height: 32px;\n",
              "      padding: 0 0 0 0;\n",
              "      width: 32px;\n",
              "    }\n",
              "\n",
              "    .colab-df-convert:hover {\n",
              "      background-color: #E2EBFA;\n",
              "      box-shadow: 0px 1px 2px rgba(60, 64, 67, 0.3), 0px 1px 3px 1px rgba(60, 64, 67, 0.15);\n",
              "      fill: #174EA6;\n",
              "    }\n",
              "\n",
              "    [theme=dark] .colab-df-convert {\n",
              "      background-color: #3B4455;\n",
              "      fill: #D2E3FC;\n",
              "    }\n",
              "\n",
              "    [theme=dark] .colab-df-convert:hover {\n",
              "      background-color: #434B5C;\n",
              "      box-shadow: 0px 1px 3px 1px rgba(0, 0, 0, 0.15);\n",
              "      filter: drop-shadow(0px 1px 2px rgba(0, 0, 0, 0.3));\n",
              "      fill: #FFFFFF;\n",
              "    }\n",
              "  </style>\n",
              "\n",
              "      <script>\n",
              "        const buttonEl =\n",
              "          document.querySelector('#df-ccbb9336-dd10-4dcb-aa32-603cb781592f button.colab-df-convert');\n",
              "        buttonEl.style.display =\n",
              "          google.colab.kernel.accessAllowed ? 'block' : 'none';\n",
              "\n",
              "        async function convertToInteractive(key) {\n",
              "          const element = document.querySelector('#df-ccbb9336-dd10-4dcb-aa32-603cb781592f');\n",
              "          const dataTable =\n",
              "            await google.colab.kernel.invokeFunction('convertToInteractive',\n",
              "                                                     [key], {});\n",
              "          if (!dataTable) return;\n",
              "\n",
              "          const docLinkHtml = 'Like what you see? Visit the ' +\n",
              "            '<a target=\"_blank\" href=https://colab.research.google.com/notebooks/data_table.ipynb>data table notebook</a>'\n",
              "            + ' to learn more about interactive tables.';\n",
              "          element.innerHTML = '';\n",
              "          dataTable['output_type'] = 'display_data';\n",
              "          await google.colab.output.renderOutput(dataTable, element);\n",
              "          const docLink = document.createElement('div');\n",
              "          docLink.innerHTML = docLinkHtml;\n",
              "          element.appendChild(docLink);\n",
              "        }\n",
              "      </script>\n",
              "    </div>\n",
              "  </div>\n",
              "  "
            ]
          },
          "metadata": {},
          "execution_count": 1
        }
      ]
    },
    {
      "cell_type": "markdown",
      "source": [
        "\n",
        "2. Obten la información del DataFrame con los métodos y propiedades: shape, columns, head(), dtypes, info(), isna()\n",
        "\n"
      ],
      "metadata": {
        "id": "nQfmf2J5jUF9"
      }
    },
    {
      "cell_type": "code",
      "source": [
        "print(f\"Shape: %s\" % (df.shape,))"
      ],
      "metadata": {
        "id": "t-bkzhVqjZpB",
        "colab": {
          "base_uri": "https://localhost:8080/"
        },
        "outputId": "b5e42f41-dbb7-4be8-f610-ddb96387069f"
      },
      "execution_count": 15,
      "outputs": [
        {
          "output_type": "stream",
          "name": "stdout",
          "text": [
            "Shape: (30000, 25)\n"
          ]
        }
      ]
    },
    {
      "cell_type": "code",
      "source": [
        "print(f\"Columns: %s\" %(df.columns,))"
      ],
      "metadata": {
        "colab": {
          "base_uri": "https://localhost:8080/"
        },
        "id": "x51PRXXMbqkt",
        "outputId": "b31df364-5537-4605-bb9c-6c2de75a9af1"
      },
      "execution_count": 16,
      "outputs": [
        {
          "output_type": "stream",
          "name": "stdout",
          "text": [
            "Columns: Index(['ID', 'X1', 'X2', 'X3', 'X4', 'X5', 'X6', 'X7', 'X8', 'X9', 'X10',\n",
            "       'X11', 'X12', 'X13', 'X14', 'X15', 'X16', 'X17', 'X18', 'X19', 'X20',\n",
            "       'X21', 'X22', 'X23', 'Y'],\n",
            "      dtype='object')\n"
          ]
        }
      ]
    },
    {
      "cell_type": "code",
      "source": [
        "print(f\"Head: %s\" %(df.head()))"
      ],
      "metadata": {
        "colab": {
          "base_uri": "https://localhost:8080/"
        },
        "id": "Nw_frxiQbqeF",
        "outputId": "7dd7d621-c512-468e-d4bd-e28e227a8cdb"
      },
      "execution_count": 17,
      "outputs": [
        {
          "output_type": "stream",
          "name": "stdout",
          "text": [
            "Head:    ID      X1   X2   X3   X4    X5   X6   X7   X8   X9  ...      X15      X16  \\\n",
            "0   1   20000  2.0  2.0  1.0  24.0  2.0  2.0 -1.0 -1.0  ...      0.0      0.0   \n",
            "1   2  120000  2.0  2.0  2.0  26.0 -1.0  2.0  0.0  0.0  ...   3272.0   3455.0   \n",
            "2   3   90000  2.0  2.0  2.0  34.0  0.0  0.0  0.0  0.0  ...  14331.0  14948.0   \n",
            "3   4   50000  2.0  2.0  1.0  37.0  0.0  0.0  0.0  0.0  ...  28314.0  28959.0   \n",
            "4   5   50000  1.0  2.0  1.0  57.0 -1.0  0.0 -1.0  0.0  ...  20940.0  19146.0   \n",
            "\n",
            "       X17     X18      X19      X20     X21     X22     X23    Y  \n",
            "0      0.0     0.0    689.0      0.0     0.0     0.0     0.0  1.0  \n",
            "1   3261.0     0.0   1000.0   1000.0  1000.0     0.0  2000.0  1.0  \n",
            "2  15549.0  1518.0   1500.0   1000.0  1000.0  1000.0  5000.0  0.0  \n",
            "3  29547.0  2000.0   2019.0   1200.0  1100.0  1069.0  1000.0  0.0  \n",
            "4  19131.0  2000.0  36681.0  10000.0  9000.0   689.0   679.0  0.0  \n",
            "\n",
            "[5 rows x 25 columns]\n"
          ]
        }
      ]
    },
    {
      "cell_type": "code",
      "source": [
        "print(f\"Data Types: %s\" %(df.dtypes,)) "
      ],
      "metadata": {
        "colab": {
          "base_uri": "https://localhost:8080/"
        },
        "id": "_HX-Ut8sbqXU",
        "outputId": "b1604b4a-d874-4cb9-8ee3-8a8a31c9a17c"
      },
      "execution_count": 21,
      "outputs": [
        {
          "output_type": "stream",
          "name": "stdout",
          "text": [
            "Data Types: ID       int64\n",
            "X1       int64\n",
            "X2     float64\n",
            "X3     float64\n",
            "X4     float64\n",
            "X5     float64\n",
            "X6     float64\n",
            "X7     float64\n",
            "X8     float64\n",
            "X9     float64\n",
            "X10    float64\n",
            "X11    float64\n",
            "X12    float64\n",
            "X13    float64\n",
            "X14    float64\n",
            "X15    float64\n",
            "X16    float64\n",
            "X17    float64\n",
            "X18    float64\n",
            "X19    float64\n",
            "X20    float64\n",
            "X21    float64\n",
            "X22    float64\n",
            "X23    float64\n",
            "Y      float64\n",
            "dtype: object\n"
          ]
        }
      ]
    },
    {
      "cell_type": "code",
      "source": [
        "print(f\"Info: %s\" %(df.info()))"
      ],
      "metadata": {
        "colab": {
          "base_uri": "https://localhost:8080/"
        },
        "id": "zyAL8u18bqPR",
        "outputId": "bf293963-f84d-4453-c309-473341c7c191"
      },
      "execution_count": 22,
      "outputs": [
        {
          "output_type": "stream",
          "name": "stdout",
          "text": [
            "<class 'pandas.core.frame.DataFrame'>\n",
            "RangeIndex: 30000 entries, 0 to 29999\n",
            "Data columns (total 25 columns):\n",
            " #   Column  Non-Null Count  Dtype  \n",
            "---  ------  --------------  -----  \n",
            " 0   ID      30000 non-null  int64  \n",
            " 1   X1      30000 non-null  int64  \n",
            " 2   X2      29999 non-null  float64\n",
            " 3   X3      29998 non-null  float64\n",
            " 4   X4      29998 non-null  float64\n",
            " 5   X5      29995 non-null  float64\n",
            " 6   X6      29997 non-null  float64\n",
            " 7   X7      29995 non-null  float64\n",
            " 8   X8      29993 non-null  float64\n",
            " 9   X9      29991 non-null  float64\n",
            " 10  X10     29984 non-null  float64\n",
            " 11  X11     29986 non-null  float64\n",
            " 12  X12     29989 non-null  float64\n",
            " 13  X13     29989 non-null  float64\n",
            " 14  X14     29987 non-null  float64\n",
            " 15  X15     29985 non-null  float64\n",
            " 16  X16     29983 non-null  float64\n",
            " 17  X17     29990 non-null  float64\n",
            " 18  X18     29992 non-null  float64\n",
            " 19  X19     29991 non-null  float64\n",
            " 20  X20     29992 non-null  float64\n",
            " 21  X21     29989 non-null  float64\n",
            " 22  X22     29989 non-null  float64\n",
            " 23  X23     29995 non-null  float64\n",
            " 24  Y       29997 non-null  float64\n",
            "dtypes: float64(23), int64(2)\n",
            "memory usage: 5.7 MB\n",
            "Info: None\n"
          ]
        }
      ]
    },
    {
      "cell_type": "code",
      "source": [
        "print(f\"Is NA: %s\" %(df.isna().values.any()))"
      ],
      "metadata": {
        "colab": {
          "base_uri": "https://localhost:8080/"
        },
        "id": "Uv4Fa7UmawId",
        "outputId": "01125cb0-cd23-47ca-a9a0-c6a6b42d4362"
      },
      "execution_count": 28,
      "outputs": [
        {
          "output_type": "stream",
          "name": "stdout",
          "text": [
            "Is NA: True\n"
          ]
        }
      ]
    },
    {
      "cell_type": "markdown",
      "source": [
        "3. Limpia los datos eliminando los registros nulos o rellena con la media de la columna"
      ],
      "metadata": {
        "id": "fHkOYAv9iY6R"
      }
    },
    {
      "cell_type": "code",
      "source": [
        "df.dropna(axis=0, inplace=True)"
      ],
      "metadata": {
        "id": "jRwe6dXJh5PF"
      },
      "execution_count": 29,
      "outputs": []
    },
    {
      "cell_type": "code",
      "source": [
        "print(f\"Shape: %s\" % (df.shape,))"
      ],
      "metadata": {
        "colab": {
          "base_uri": "https://localhost:8080/"
        },
        "id": "WN6uTltogDFo",
        "outputId": "26570222-cbff-4931-a26d-d925c9bb032d"
      },
      "execution_count": 30,
      "outputs": [
        {
          "output_type": "stream",
          "name": "stdout",
          "text": [
            "Shape: (29958, 25)\n"
          ]
        }
      ]
    },
    {
      "cell_type": "markdown",
      "source": [
        "4. Calcula la estadística descriptiva con describe() y explica las medidas de tendencia central y dispersión"
      ],
      "metadata": {
        "id": "mnpbfsojiaIF"
      }
    },
    {
      "cell_type": "code",
      "source": [
        "df.describe()"
      ],
      "metadata": {
        "id": "Itr_D9VUh89l",
        "colab": {
          "base_uri": "https://localhost:8080/",
          "height": 393
        },
        "outputId": "ba76666f-afcf-44f4-afaf-f77a7d927c43"
      },
      "execution_count": 31,
      "outputs": [
        {
          "output_type": "execute_result",
          "data": {
            "text/plain": [
              "                 ID              X1            X2            X3            X4  \\\n",
              "count  29958.000000    29958.000000  29958.000000  29958.000000  29958.000000   \n",
              "mean   15005.550504   167555.900928      1.604012      1.853094      1.551739   \n",
              "std     8654.547473   129737.299088      0.489070      0.790471      0.521952   \n",
              "min        1.000000    10000.000000      1.000000      0.000000      0.000000   \n",
              "25%     7516.250000    50000.000000      1.000000      1.000000      1.000000   \n",
              "50%    15005.500000   140000.000000      2.000000      2.000000      2.000000   \n",
              "75%    22497.750000   240000.000000      2.000000      2.000000      2.000000   \n",
              "max    30000.000000  1000000.000000      2.000000      6.000000      3.000000   \n",
              "\n",
              "                 X5            X6            X7            X8            X9  \\\n",
              "count  29958.000000  29958.000000  29958.000000  29958.000000  29958.000000   \n",
              "mean      35.483443     -0.017124     -0.134021     -0.166767     -0.221110   \n",
              "std        9.214319      1.123989      1.197171      1.196026      1.168419   \n",
              "min       21.000000     -2.000000     -2.000000     -2.000000     -2.000000   \n",
              "25%       28.000000     -1.000000     -1.000000     -1.000000     -1.000000   \n",
              "50%       34.000000      0.000000      0.000000      0.000000      0.000000   \n",
              "75%       41.000000      0.000000      0.000000      0.000000      0.000000   \n",
              "max       79.000000      8.000000      8.000000      8.000000      8.000000   \n",
              "\n",
              "       ...            X15            X16            X17            X18  \\\n",
              "count  ...   29958.000000   29958.000000   29958.000000   29958.000000   \n",
              "mean   ...   43279.335370   40328.984578   38889.925763    5664.614460   \n",
              "std    ...   64364.684347   60826.219326   59582.883301   16568.823518   \n",
              "min    ... -170000.000000  -81334.000000 -339603.000000       0.000000   \n",
              "25%    ...    2327.500000    1762.250000    1256.000000    1000.000000   \n",
              "50%    ...   19037.500000   18104.500000   17067.500000    2100.000000   \n",
              "75%    ...   54551.250000   50220.750000   49234.750000    5007.000000   \n",
              "max    ...  891586.000000  927171.000000  961664.000000  873552.000000   \n",
              "\n",
              "                X19            X20            X21            X22  \\\n",
              "count  2.995800e+04   29958.000000   29958.000000   29958.000000   \n",
              "mean   5.925715e+03    5228.429969    4829.873556    4801.481574   \n",
              "std    2.305598e+04   17617.338167   15676.205514   15285.552652   \n",
              "min    0.000000e+00       0.000000       0.000000       0.000000   \n",
              "25%    8.352500e+02     390.000000     296.250000     253.250000   \n",
              "50%    2.009000e+03    1800.000000    1500.000000    1500.000000   \n",
              "75%    5.000000e+03    4511.500000    4014.750000    4040.000000   \n",
              "max    1.684259e+06  896040.000000  621000.000000  426529.000000   \n",
              "\n",
              "                 X23             Y  \n",
              "count   29958.000000  29958.000000  \n",
              "mean     5220.708025      0.221143  \n",
              "std     17788.983767      0.415023  \n",
              "min         0.000000      0.000000  \n",
              "25%       118.000000      0.000000  \n",
              "50%      1500.000000      0.000000  \n",
              "75%      4000.000000      0.000000  \n",
              "max    528666.000000      1.000000  \n",
              "\n",
              "[8 rows x 25 columns]"
            ],
            "text/html": [
              "\n",
              "  <div id=\"df-b3243213-16c2-4772-abeb-b6af7c5a068b\">\n",
              "    <div class=\"colab-df-container\">\n",
              "      <div>\n",
              "<style scoped>\n",
              "    .dataframe tbody tr th:only-of-type {\n",
              "        vertical-align: middle;\n",
              "    }\n",
              "\n",
              "    .dataframe tbody tr th {\n",
              "        vertical-align: top;\n",
              "    }\n",
              "\n",
              "    .dataframe thead th {\n",
              "        text-align: right;\n",
              "    }\n",
              "</style>\n",
              "<table border=\"1\" class=\"dataframe\">\n",
              "  <thead>\n",
              "    <tr style=\"text-align: right;\">\n",
              "      <th></th>\n",
              "      <th>ID</th>\n",
              "      <th>X1</th>\n",
              "      <th>X2</th>\n",
              "      <th>X3</th>\n",
              "      <th>X4</th>\n",
              "      <th>X5</th>\n",
              "      <th>X6</th>\n",
              "      <th>X7</th>\n",
              "      <th>X8</th>\n",
              "      <th>X9</th>\n",
              "      <th>...</th>\n",
              "      <th>X15</th>\n",
              "      <th>X16</th>\n",
              "      <th>X17</th>\n",
              "      <th>X18</th>\n",
              "      <th>X19</th>\n",
              "      <th>X20</th>\n",
              "      <th>X21</th>\n",
              "      <th>X22</th>\n",
              "      <th>X23</th>\n",
              "      <th>Y</th>\n",
              "    </tr>\n",
              "  </thead>\n",
              "  <tbody>\n",
              "    <tr>\n",
              "      <th>count</th>\n",
              "      <td>29958.000000</td>\n",
              "      <td>29958.000000</td>\n",
              "      <td>29958.000000</td>\n",
              "      <td>29958.000000</td>\n",
              "      <td>29958.000000</td>\n",
              "      <td>29958.000000</td>\n",
              "      <td>29958.000000</td>\n",
              "      <td>29958.000000</td>\n",
              "      <td>29958.000000</td>\n",
              "      <td>29958.000000</td>\n",
              "      <td>...</td>\n",
              "      <td>29958.000000</td>\n",
              "      <td>29958.000000</td>\n",
              "      <td>29958.000000</td>\n",
              "      <td>29958.000000</td>\n",
              "      <td>2.995800e+04</td>\n",
              "      <td>29958.000000</td>\n",
              "      <td>29958.000000</td>\n",
              "      <td>29958.000000</td>\n",
              "      <td>29958.000000</td>\n",
              "      <td>29958.000000</td>\n",
              "    </tr>\n",
              "    <tr>\n",
              "      <th>mean</th>\n",
              "      <td>15005.550504</td>\n",
              "      <td>167555.900928</td>\n",
              "      <td>1.604012</td>\n",
              "      <td>1.853094</td>\n",
              "      <td>1.551739</td>\n",
              "      <td>35.483443</td>\n",
              "      <td>-0.017124</td>\n",
              "      <td>-0.134021</td>\n",
              "      <td>-0.166767</td>\n",
              "      <td>-0.221110</td>\n",
              "      <td>...</td>\n",
              "      <td>43279.335370</td>\n",
              "      <td>40328.984578</td>\n",
              "      <td>38889.925763</td>\n",
              "      <td>5664.614460</td>\n",
              "      <td>5.925715e+03</td>\n",
              "      <td>5228.429969</td>\n",
              "      <td>4829.873556</td>\n",
              "      <td>4801.481574</td>\n",
              "      <td>5220.708025</td>\n",
              "      <td>0.221143</td>\n",
              "    </tr>\n",
              "    <tr>\n",
              "      <th>std</th>\n",
              "      <td>8654.547473</td>\n",
              "      <td>129737.299088</td>\n",
              "      <td>0.489070</td>\n",
              "      <td>0.790471</td>\n",
              "      <td>0.521952</td>\n",
              "      <td>9.214319</td>\n",
              "      <td>1.123989</td>\n",
              "      <td>1.197171</td>\n",
              "      <td>1.196026</td>\n",
              "      <td>1.168419</td>\n",
              "      <td>...</td>\n",
              "      <td>64364.684347</td>\n",
              "      <td>60826.219326</td>\n",
              "      <td>59582.883301</td>\n",
              "      <td>16568.823518</td>\n",
              "      <td>2.305598e+04</td>\n",
              "      <td>17617.338167</td>\n",
              "      <td>15676.205514</td>\n",
              "      <td>15285.552652</td>\n",
              "      <td>17788.983767</td>\n",
              "      <td>0.415023</td>\n",
              "    </tr>\n",
              "    <tr>\n",
              "      <th>min</th>\n",
              "      <td>1.000000</td>\n",
              "      <td>10000.000000</td>\n",
              "      <td>1.000000</td>\n",
              "      <td>0.000000</td>\n",
              "      <td>0.000000</td>\n",
              "      <td>21.000000</td>\n",
              "      <td>-2.000000</td>\n",
              "      <td>-2.000000</td>\n",
              "      <td>-2.000000</td>\n",
              "      <td>-2.000000</td>\n",
              "      <td>...</td>\n",
              "      <td>-170000.000000</td>\n",
              "      <td>-81334.000000</td>\n",
              "      <td>-339603.000000</td>\n",
              "      <td>0.000000</td>\n",
              "      <td>0.000000e+00</td>\n",
              "      <td>0.000000</td>\n",
              "      <td>0.000000</td>\n",
              "      <td>0.000000</td>\n",
              "      <td>0.000000</td>\n",
              "      <td>0.000000</td>\n",
              "    </tr>\n",
              "    <tr>\n",
              "      <th>25%</th>\n",
              "      <td>7516.250000</td>\n",
              "      <td>50000.000000</td>\n",
              "      <td>1.000000</td>\n",
              "      <td>1.000000</td>\n",
              "      <td>1.000000</td>\n",
              "      <td>28.000000</td>\n",
              "      <td>-1.000000</td>\n",
              "      <td>-1.000000</td>\n",
              "      <td>-1.000000</td>\n",
              "      <td>-1.000000</td>\n",
              "      <td>...</td>\n",
              "      <td>2327.500000</td>\n",
              "      <td>1762.250000</td>\n",
              "      <td>1256.000000</td>\n",
              "      <td>1000.000000</td>\n",
              "      <td>8.352500e+02</td>\n",
              "      <td>390.000000</td>\n",
              "      <td>296.250000</td>\n",
              "      <td>253.250000</td>\n",
              "      <td>118.000000</td>\n",
              "      <td>0.000000</td>\n",
              "    </tr>\n",
              "    <tr>\n",
              "      <th>50%</th>\n",
              "      <td>15005.500000</td>\n",
              "      <td>140000.000000</td>\n",
              "      <td>2.000000</td>\n",
              "      <td>2.000000</td>\n",
              "      <td>2.000000</td>\n",
              "      <td>34.000000</td>\n",
              "      <td>0.000000</td>\n",
              "      <td>0.000000</td>\n",
              "      <td>0.000000</td>\n",
              "      <td>0.000000</td>\n",
              "      <td>...</td>\n",
              "      <td>19037.500000</td>\n",
              "      <td>18104.500000</td>\n",
              "      <td>17067.500000</td>\n",
              "      <td>2100.000000</td>\n",
              "      <td>2.009000e+03</td>\n",
              "      <td>1800.000000</td>\n",
              "      <td>1500.000000</td>\n",
              "      <td>1500.000000</td>\n",
              "      <td>1500.000000</td>\n",
              "      <td>0.000000</td>\n",
              "    </tr>\n",
              "    <tr>\n",
              "      <th>75%</th>\n",
              "      <td>22497.750000</td>\n",
              "      <td>240000.000000</td>\n",
              "      <td>2.000000</td>\n",
              "      <td>2.000000</td>\n",
              "      <td>2.000000</td>\n",
              "      <td>41.000000</td>\n",
              "      <td>0.000000</td>\n",
              "      <td>0.000000</td>\n",
              "      <td>0.000000</td>\n",
              "      <td>0.000000</td>\n",
              "      <td>...</td>\n",
              "      <td>54551.250000</td>\n",
              "      <td>50220.750000</td>\n",
              "      <td>49234.750000</td>\n",
              "      <td>5007.000000</td>\n",
              "      <td>5.000000e+03</td>\n",
              "      <td>4511.500000</td>\n",
              "      <td>4014.750000</td>\n",
              "      <td>4040.000000</td>\n",
              "      <td>4000.000000</td>\n",
              "      <td>0.000000</td>\n",
              "    </tr>\n",
              "    <tr>\n",
              "      <th>max</th>\n",
              "      <td>30000.000000</td>\n",
              "      <td>1000000.000000</td>\n",
              "      <td>2.000000</td>\n",
              "      <td>6.000000</td>\n",
              "      <td>3.000000</td>\n",
              "      <td>79.000000</td>\n",
              "      <td>8.000000</td>\n",
              "      <td>8.000000</td>\n",
              "      <td>8.000000</td>\n",
              "      <td>8.000000</td>\n",
              "      <td>...</td>\n",
              "      <td>891586.000000</td>\n",
              "      <td>927171.000000</td>\n",
              "      <td>961664.000000</td>\n",
              "      <td>873552.000000</td>\n",
              "      <td>1.684259e+06</td>\n",
              "      <td>896040.000000</td>\n",
              "      <td>621000.000000</td>\n",
              "      <td>426529.000000</td>\n",
              "      <td>528666.000000</td>\n",
              "      <td>1.000000</td>\n",
              "    </tr>\n",
              "  </tbody>\n",
              "</table>\n",
              "<p>8 rows × 25 columns</p>\n",
              "</div>\n",
              "      <button class=\"colab-df-convert\" onclick=\"convertToInteractive('df-b3243213-16c2-4772-abeb-b6af7c5a068b')\"\n",
              "              title=\"Convert this dataframe to an interactive table.\"\n",
              "              style=\"display:none;\">\n",
              "        \n",
              "  <svg xmlns=\"http://www.w3.org/2000/svg\" height=\"24px\"viewBox=\"0 0 24 24\"\n",
              "       width=\"24px\">\n",
              "    <path d=\"M0 0h24v24H0V0z\" fill=\"none\"/>\n",
              "    <path d=\"M18.56 5.44l.94 2.06.94-2.06 2.06-.94-2.06-.94-.94-2.06-.94 2.06-2.06.94zm-11 1L8.5 8.5l.94-2.06 2.06-.94-2.06-.94L8.5 2.5l-.94 2.06-2.06.94zm10 10l.94 2.06.94-2.06 2.06-.94-2.06-.94-.94-2.06-.94 2.06-2.06.94z\"/><path d=\"M17.41 7.96l-1.37-1.37c-.4-.4-.92-.59-1.43-.59-.52 0-1.04.2-1.43.59L10.3 9.45l-7.72 7.72c-.78.78-.78 2.05 0 2.83L4 21.41c.39.39.9.59 1.41.59.51 0 1.02-.2 1.41-.59l7.78-7.78 2.81-2.81c.8-.78.8-2.07 0-2.86zM5.41 20L4 18.59l7.72-7.72 1.47 1.35L5.41 20z\"/>\n",
              "  </svg>\n",
              "      </button>\n",
              "      \n",
              "  <style>\n",
              "    .colab-df-container {\n",
              "      display:flex;\n",
              "      flex-wrap:wrap;\n",
              "      gap: 12px;\n",
              "    }\n",
              "\n",
              "    .colab-df-convert {\n",
              "      background-color: #E8F0FE;\n",
              "      border: none;\n",
              "      border-radius: 50%;\n",
              "      cursor: pointer;\n",
              "      display: none;\n",
              "      fill: #1967D2;\n",
              "      height: 32px;\n",
              "      padding: 0 0 0 0;\n",
              "      width: 32px;\n",
              "    }\n",
              "\n",
              "    .colab-df-convert:hover {\n",
              "      background-color: #E2EBFA;\n",
              "      box-shadow: 0px 1px 2px rgba(60, 64, 67, 0.3), 0px 1px 3px 1px rgba(60, 64, 67, 0.15);\n",
              "      fill: #174EA6;\n",
              "    }\n",
              "\n",
              "    [theme=dark] .colab-df-convert {\n",
              "      background-color: #3B4455;\n",
              "      fill: #D2E3FC;\n",
              "    }\n",
              "\n",
              "    [theme=dark] .colab-df-convert:hover {\n",
              "      background-color: #434B5C;\n",
              "      box-shadow: 0px 1px 3px 1px rgba(0, 0, 0, 0.15);\n",
              "      filter: drop-shadow(0px 1px 2px rgba(0, 0, 0, 0.3));\n",
              "      fill: #FFFFFF;\n",
              "    }\n",
              "  </style>\n",
              "\n",
              "      <script>\n",
              "        const buttonEl =\n",
              "          document.querySelector('#df-b3243213-16c2-4772-abeb-b6af7c5a068b button.colab-df-convert');\n",
              "        buttonEl.style.display =\n",
              "          google.colab.kernel.accessAllowed ? 'block' : 'none';\n",
              "\n",
              "        async function convertToInteractive(key) {\n",
              "          const element = document.querySelector('#df-b3243213-16c2-4772-abeb-b6af7c5a068b');\n",
              "          const dataTable =\n",
              "            await google.colab.kernel.invokeFunction('convertToInteractive',\n",
              "                                                     [key], {});\n",
              "          if (!dataTable) return;\n",
              "\n",
              "          const docLinkHtml = 'Like what you see? Visit the ' +\n",
              "            '<a target=\"_blank\" href=https://colab.research.google.com/notebooks/data_table.ipynb>data table notebook</a>'\n",
              "            + ' to learn more about interactive tables.';\n",
              "          element.innerHTML = '';\n",
              "          dataTable['output_type'] = 'display_data';\n",
              "          await google.colab.output.renderOutput(dataTable, element);\n",
              "          const docLink = document.createElement('div');\n",
              "          docLink.innerHTML = docLinkHtml;\n",
              "          element.appendChild(docLink);\n",
              "        }\n",
              "      </script>\n",
              "    </div>\n",
              "  </div>\n",
              "  "
            ]
          },
          "metadata": {},
          "execution_count": 31
        }
      ]
    },
    {
      "cell_type": "code",
      "source": [
        "categoricas = ['X2', 'X3', 'X4','X6', 'X7','X8','X9','X10','X11']\n",
        "numericas = ['X1','X5','X12','X13','X14','X15','X16','X17','X18','X19','X20','X21','X22','X23']"
      ],
      "metadata": {
        "id": "RGjdFPwPk2bH"
      },
      "execution_count": 49,
      "outputs": []
    },
    {
      "cell_type": "code",
      "source": [
        "import matplotlib.pyplot as plt\n",
        "\n",
        "#Calcularemos para las variables numéricas sus histogramas y boxplots\n",
        "for f in df[numericas].columns:\n",
        "  print (df.groupby([f]).size())\n",
        "  print(df[f].describe(include='all'))\n",
        "  plt.hist(df[f], bins=11)\n",
        "  plt.xlabel(f) \n",
        "  plt.ylabel('Frecuencia') \n",
        "  plt.title(f)\n",
        "  plt.show()\n",
        "  print(\"\\n\")\n",
        "  plt.boxplot(df[f])\n",
        "  plt.show()\n",
        "  print(\"\\n\")\n",
        "\n",
        "  #Tras graficar y validar todas las variables se observa que la mayoría de los datos se encuentran distribuidos del lado izquierdo como distribución Logaritmica y no  tan Normal\n",
        "  #Tambien se observa visualmente que los outliers se alejan muchísimo de la media\n",
        "  "
      ],
      "metadata": {
        "colab": {
          "base_uri": "https://localhost:8080/",
          "height": 1000
        },
        "id": "n2LsR5QAgPxo",
        "outputId": "de6a39e3-8d71-4ae0-9a13-e9965120a332"
      },
      "execution_count": 47,
      "outputs": [
        {
          "output_type": "stream",
          "name": "stdout",
          "text": [
            "X1\n",
            "10000       493\n",
            "16000         2\n",
            "20000      1969\n",
            "30000      1607\n",
            "40000       229\n",
            "           ... \n",
            "750000        4\n",
            "760000        1\n",
            "780000        2\n",
            "800000        2\n",
            "1000000       1\n",
            "Length: 81, dtype: int64\n",
            "count      29958.000000\n",
            "mean      167555.900928\n",
            "std       129737.299088\n",
            "min        10000.000000\n",
            "25%        50000.000000\n",
            "50%       140000.000000\n",
            "75%       240000.000000\n",
            "max      1000000.000000\n",
            "Name: X1, dtype: float64\n"
          ]
        },
        {
          "output_type": "display_data",
          "data": {
            "text/plain": [
              "<Figure size 432x288 with 1 Axes>"
            ],
            "image/png": "[encoded data removed]"
          },
          "metadata": {
            "needs_background": "light"
          }
        },
        {
          "output_type": "stream",
          "name": "stdout",
          "text": [
            "\n",
            "\n"
          ]
        },
        {
          "output_type": "display_data",
          "data": {
            "text/plain": [
              "<Figure size 432x288 with 1 Axes>"
            ],
            "image/png": "[encoded data removed]"
          },
          "metadata": {
            "needs_background": "light"
          }
        },
        {
          "output_type": "stream",
          "name": "stdout",
          "text": [
            "\n",
            "\n",
            "X5\n",
            "21.0      67\n",
            "22.0     559\n",
            "23.0     931\n",
            "24.0    1123\n",
            "25.0    1184\n",
            "26.0    1255\n",
            "27.0    1475\n",
            "28.0    1408\n",
            "29.0    1601\n",
            "30.0    1393\n",
            "31.0    1216\n",
            "32.0    1156\n",
            "33.0    1145\n",
            "34.0    1161\n",
            "35.0    1113\n",
            "36.0    1108\n",
            "37.0    1040\n",
            "38.0     943\n",
            "39.0     954\n",
            "40.0     868\n",
            "41.0     820\n",
            "42.0     794\n",
            "43.0     669\n",
            "44.0     700\n",
            "45.0     617\n",
            "46.0     569\n",
            "47.0     498\n",
            "48.0     466\n",
            "49.0     450\n",
            "50.0     411\n",
            "51.0     339\n",
            "52.0     304\n",
            "53.0     325\n",
            "54.0     246\n",
            "55.0     208\n",
            "56.0     177\n",
            "57.0     122\n",
            "58.0     122\n",
            "59.0      83\n",
            "60.0      67\n",
            "61.0      56\n",
            "62.0      44\n",
            "63.0      31\n",
            "64.0      31\n",
            "65.0      24\n",
            "66.0      25\n",
            "67.0      16\n",
            "68.0       5\n",
            "69.0      15\n",
            "70.0      10\n",
            "71.0       3\n",
            "72.0       3\n",
            "73.0       4\n",
            "74.0       1\n",
            "75.0       2\n",
            "79.0       1\n",
            "dtype: int64\n",
            "count    29958.000000\n",
            "mean        35.483443\n",
            "std          9.214319\n",
            "min         21.000000\n",
            "25%         28.000000\n",
            "50%         34.000000\n",
            "75%         41.000000\n",
            "max         79.000000\n",
            "Name: X5, dtype: float64\n"
          ]
        },
        {
          "output_type": "display_data",
          "data": {
            "text/plain": [
              "<Figure size 432x288 with 1 Axes>"
            ],
            "image/png": "[encoded data removed]"
          },
          "metadata": {
            "needs_background": "light"
          }
        },
        {
          "output_type": "stream",
          "name": "stdout",
          "text": [
            "\n",
            "\n"
          ]
        },
        {
          "output_type": "display_data",
          "data": {
            "text/plain": [
              "<Figure size 432x288 with 1 Axes>"
            ],
            "image/png": "[encoded data removed]"
          },
          "metadata": {
            "needs_background": "light"
          }
        },
        {
          "output_type": "stream",
          "name": "stdout",
          "text": [
            "\n",
            "\n",
            "X12\n",
            "-165580.0    1\n",
            "-154973.0    1\n",
            "-15308.0     1\n",
            "-14386.0     1\n",
            "-11545.0     1\n",
            "            ..\n",
            " 626648.0    1\n",
            " 630458.0    1\n",
            " 653062.0    1\n",
            " 746814.0    1\n",
            " 964511.0    1\n",
            "Length: 22696, dtype: int64\n",
            "count     29958.000000\n",
            "mean      51248.119901\n",
            "std       73674.949943\n",
            "min     -165580.000000\n",
            "25%        3559.250000\n",
            "50%       22379.000000\n",
            "75%       67190.000000\n",
            "max      964511.000000\n",
            "Name: X12, dtype: float64\n"
          ]
        },
        {
          "output_type": "display_data",
          "data": {
            "text/plain": [
              "<Figure size 432x288 with 1 Axes>"
            ],
            "image/png": "[encoded data removed]"
          },
          "metadata": {
            "needs_background": "light"
          }
        },
        {
          "output_type": "stream",
          "name": "stdout",
          "text": [
            "\n",
            "\n"
          ]
        },
        {
          "output_type": "display_data",
          "data": {
            "text/plain": [
              "<Figure size 432x288 with 1 Axes>"
            ],
            "image/png": "[encoded data removed]"
          },
          "metadata": {
            "needs_background": "light"
          }
        },
        {
          "output_type": "stream",
          "name": "stdout",
          "text": [
            "\n",
            "\n",
            "X13\n",
            "-69777.0     1\n",
            "-67526.0     1\n",
            "-33350.0     1\n",
            "-30000.0     1\n",
            "-26214.0     1\n",
            "            ..\n",
            " 624475.0    1\n",
            " 646770.0    1\n",
            " 671563.0    1\n",
            " 743970.0    1\n",
            " 983931.0    1\n",
            "Length: 22319, dtype: int64\n",
            "count     29958.000000\n",
            "mean      49200.493825\n",
            "std       71211.232744\n",
            "min      -69777.000000\n",
            "25%        2984.000000\n",
            "50%       21194.500000\n",
            "75%       64027.750000\n",
            "max      983931.000000\n",
            "Name: X13, dtype: float64\n"
          ]
        },
        {
          "output_type": "display_data",
          "data": {
            "text/plain": [
              "<Figure size 432x288 with 1 Axes>"
            ],
            "image/png": "[encoded data removed]"
          },
          "metadata": {
            "needs_background": "light"
          }
        },
        {
          "output_type": "stream",
          "name": "stdout",
          "text": [
            "\n",
            "\n"
          ]
        },
        {
          "output_type": "display_data",
          "data": {
            "text/plain": [
              "<Figure size 432x288 with 1 Axes>"
            ],
            "image/png": "[encoded data removed]"
          },
          "metadata": {
            "needs_background": "light"
          }
        },
        {
          "output_type": "stream",
          "name": "stdout",
          "text": [
            "\n",
            "\n",
            "X14\n",
            "-157264.0     1\n",
            "-61506.0      1\n",
            "-46127.0      1\n",
            "-34041.0      1\n",
            "-25443.0      1\n",
            "             ..\n",
            " 689627.0     1\n",
            " 689643.0     1\n",
            " 693131.0     1\n",
            " 855086.0     1\n",
            " 1664089.0    1\n",
            "Length: 22002, dtype: int64\n",
            "count    2.995800e+04\n",
            "mean     4.703239e+04\n",
            "std      6.938524e+04\n",
            "min     -1.572640e+05\n",
            "25%      2.664750e+03\n",
            "50%      2.008550e+04\n",
            "75%      6.018300e+04\n",
            "max      1.664089e+06\n",
            "Name: X14, dtype: float64\n"
          ]
        },
        {
          "output_type": "display_data",
          "data": {
            "text/plain": [
              "<Figure size 432x288 with 1 Axes>"
            ],
            "image/png": "[encoded data removed]"
          },
          "metadata": {
            "needs_background": "light"
          }
        },
        {
          "output_type": "stream",
          "name": "stdout",
          "text": [
            "\n",
            "\n"
          ]
        },
        {
          "output_type": "display_data",
          "data": {
            "text/plain": [
              "<Figure size 432x288 with 1 Axes>"
            ],
            "image/png": "[encoded data removed]"
          },
          "metadata": {
            "needs_background": "light"
          }
        },
        {
          "output_type": "stream",
          "name": "stdout",
          "text": [
            "\n",
            "\n",
            "X15\n",
            "-170000.0    1\n",
            "-81334.0     1\n",
            "-65167.0     1\n",
            "-50616.0     1\n",
            "-46627.0     1\n",
            "            ..\n",
            " 572805.0    1\n",
            " 616836.0    1\n",
            " 628699.0    1\n",
            " 706864.0    1\n",
            " 891586.0    1\n",
            "Length: 21524, dtype: int64\n",
            "count     29958.000000\n",
            "mean      43279.335370\n",
            "std       64364.684347\n",
            "min     -170000.000000\n",
            "25%        2327.500000\n",
            "50%       19037.500000\n",
            "75%       54551.250000\n",
            "max      891586.000000\n",
            "Name: X15, dtype: float64\n"
          ]
        },
        {
          "output_type": "display_data",
          "data": {
            "text/plain": [
              "<Figure size 432x288 with 1 Axes>"
            ],
            "image/png": "[encoded data removed]"
          },
          "metadata": {
            "needs_background": "light"
          }
        },
        {
          "output_type": "stream",
          "name": "stdout",
          "text": [
            "\n",
            "\n"
          ]
        },
        {
          "output_type": "display_data",
          "data": {
            "text/plain": [
              "<Figure size 432x288 with 1 Axes>"
            ],
            "image/png": "[encoded data removed]"
          },
          "metadata": {
            "needs_background": "light"
          }
        },
        {
          "output_type": "stream",
          "name": "stdout",
          "text": [
            "\n",
            "\n",
            "X16\n",
            "-81334.0     1\n",
            "-61372.0     1\n",
            "-53007.0     1\n",
            "-46627.0     1\n",
            "-37594.0     1\n",
            "            ..\n",
            " 547880.0    1\n",
            " 551702.0    1\n",
            " 587067.0    1\n",
            " 823540.0    1\n",
            " 927171.0    1\n",
            "Length: 20982, dtype: int64\n",
            "count     29958.000000\n",
            "mean      40328.984578\n",
            "std       60826.219326\n",
            "min      -81334.000000\n",
            "25%        1762.250000\n",
            "50%       18104.500000\n",
            "75%       50220.750000\n",
            "max      927171.000000\n",
            "Name: X16, dtype: float64\n"
          ]
        },
        {
          "output_type": "display_data",
          "data": {
            "text/plain": [
              "<Figure size 432x288 with 1 Axes>"
            ],
            "image/png": "[encoded data removed]"
          },
          "metadata": {
            "needs_background": "light"
          }
        },
        {
          "output_type": "stream",
          "name": "stdout",
          "text": [
            "\n",
            "\n"
          ]
        },
        {
          "output_type": "display_data",
          "data": {
            "text/plain": [
              "<Figure size 432x288 with 1 Axes>"
            ],
            "image/png": "[encoded data removed]"
          },
          "metadata": {
            "needs_background": "light"
          }
        },
        {
          "output_type": "stream",
          "name": "stdout",
          "text": [
            "\n",
            "\n",
            "X17\n",
            "-339603.0    1\n",
            "-209051.0    1\n",
            "-150953.0    1\n",
            "-94625.0     1\n",
            "-73895.0     1\n",
            "            ..\n",
            " 527566.0    1\n",
            " 527711.0    1\n",
            " 568638.0    1\n",
            " 699944.0    1\n",
            " 961664.0    1\n",
            "Length: 20580, dtype: int64\n",
            "count     29958.000000\n",
            "mean      38889.925763\n",
            "std       59582.883301\n",
            "min     -339603.000000\n",
            "25%        1256.000000\n",
            "50%       17067.500000\n",
            "75%       49234.750000\n",
            "max      961664.000000\n",
            "Name: X17, dtype: float64\n"
          ]
        },
        {
          "output_type": "display_data",
          "data": {
            "text/plain": [
              "<Figure size 432x288 with 1 Axes>"
            ],
            "image/png": "[encoded data removed]"
          },
          "metadata": {
            "needs_background": "light"
          }
        },
        {
          "output_type": "stream",
          "name": "stdout",
          "text": [
            "\n",
            "\n"
          ]
        },
        {
          "output_type": "display_data",
          "data": {
            "text/plain": [
              "<Figure size 432x288 with 1 Axes>"
            ],
            "image/png": "[encoded data removed]"
          },
          "metadata": {
            "needs_background": "light"
          }
        },
        {
          "output_type": "stream",
          "name": "stdout",
          "text": [
            "\n",
            "\n",
            "X18\n",
            "0.0         5243\n",
            "1.0            9\n",
            "2.0           14\n",
            "3.0           15\n",
            "4.0           18\n",
            "            ... \n",
            "405016.0       1\n",
            "423903.0       1\n",
            "493358.0       1\n",
            "505000.0       1\n",
            "873552.0       1\n",
            "Length: 7938, dtype: int64\n",
            "count     29958.000000\n",
            "mean       5664.614460\n",
            "std       16568.823518\n",
            "min           0.000000\n",
            "25%        1000.000000\n",
            "50%        2100.000000\n",
            "75%        5007.000000\n",
            "max      873552.000000\n",
            "Name: X18, dtype: float64\n"
          ]
        },
        {
          "output_type": "display_data",
          "data": {
            "text/plain": [
              "<Figure size 432x288 with 1 Axes>"
            ],
            "image/png": "[encoded data removed]"
          },
          "metadata": {
            "needs_background": "light"
          }
        },
        {
          "output_type": "stream",
          "name": "stdout",
          "text": [
            "\n",
            "\n"
          ]
        },
        {
          "output_type": "display_data",
          "data": {
            "text/plain": [
              "<Figure size 432x288 with 1 Axes>"
            ],
            "image/png": "[encoded data removed]"
          },
          "metadata": {
            "needs_background": "light"
          }
        },
        {
          "output_type": "stream",
          "name": "stdout",
          "text": [
            "\n",
            "\n",
            "X19\n",
            "0.0          5388\n",
            "1.0            15\n",
            "2.0            20\n",
            "3.0            18\n",
            "4.0            11\n",
            "             ... \n",
            "580464.0        1\n",
            "1024516.0       1\n",
            "1215471.0       1\n",
            "1227082.0       1\n",
            "1684259.0       1\n",
            "Length: 7895, dtype: int64\n",
            "count    2.995800e+04\n",
            "mean     5.925715e+03\n",
            "std      2.305598e+04\n",
            "min      0.000000e+00\n",
            "25%      8.352500e+02\n",
            "50%      2.009000e+03\n",
            "75%      5.000000e+03\n",
            "max      1.684259e+06\n",
            "Name: X19, dtype: float64\n"
          ]
        },
        {
          "output_type": "display_data",
          "data": {
            "text/plain": [
              "<Figure size 432x288 with 1 Axes>"
            ],
            "image/png": "[encoded data removed]"
          },
          "metadata": {
            "needs_background": "light"
          }
        },
        {
          "output_type": "stream",
          "name": "stdout",
          "text": [
            "\n",
            "\n"
          ]
        },
        {
          "output_type": "display_data",
          "data": {
            "text/plain": [
              "<Figure size 432x288 with 1 Axes>"
            ],
            "image/png": "[encoded data removed]"
          },
          "metadata": {
            "needs_background": "light"
          }
        },
        {
          "output_type": "stream",
          "name": "stdout",
          "text": [
            "\n",
            "\n",
            "X20\n",
            "0.0         5960\n",
            "1.0           13\n",
            "2.0           19\n",
            "3.0           14\n",
            "4.0           15\n",
            "            ... \n",
            "400972.0       1\n",
            "417588.0       1\n",
            "508229.0       1\n",
            "889043.0       1\n",
            "896040.0       1\n",
            "Length: 7513, dtype: int64\n",
            "count     29958.000000\n",
            "mean       5228.429969\n",
            "std       17617.338167\n",
            "min           0.000000\n",
            "25%         390.000000\n",
            "50%        1800.000000\n",
            "75%        4511.500000\n",
            "max      896040.000000\n",
            "Name: X20, dtype: float64\n"
          ]
        },
        {
          "output_type": "display_data",
          "data": {
            "text/plain": [
              "<Figure size 432x288 with 1 Axes>"
            ],
            "image/png": "[encoded data removed]"
          },
          "metadata": {
            "needs_background": "light"
          }
        },
        {
          "output_type": "stream",
          "name": "stdout",
          "text": [
            "\n",
            "\n"
          ]
        },
        {
          "output_type": "display_data",
          "data": {
            "text/plain": [
              "<Figure size 432x288 with 1 Axes>"
            ],
            "image/png": "[encoded data removed]"
          },
          "metadata": {
            "needs_background": "light"
          }
        },
        {
          "output_type": "stream",
          "name": "stdout",
          "text": [
            "\n",
            "\n",
            "X21\n",
            "0.0         6396\n",
            "1.0           22\n",
            "2.0           22\n",
            "3.0           13\n",
            "4.0           20\n",
            "            ... \n",
            "400046.0       1\n",
            "432130.0       1\n",
            "497000.0       1\n",
            "528897.0       1\n",
            "621000.0       1\n",
            "Length: 6936, dtype: int64\n",
            "count     29958.000000\n",
            "mean       4829.873556\n",
            "std       15676.205514\n",
            "min           0.000000\n",
            "25%         296.250000\n",
            "50%        1500.000000\n",
            "75%        4014.750000\n",
            "max      621000.000000\n",
            "Name: X21, dtype: float64\n"
          ]
        },
        {
          "output_type": "display_data",
          "data": {
            "text/plain": [
              "<Figure size 432x288 with 1 Axes>"
            ],
            "image/png": "[encoded data removed]"
          },
          "metadata": {
            "needs_background": "light"
          }
        },
        {
          "output_type": "stream",
          "name": "stdout",
          "text": [
            "\n",
            "\n"
          ]
        },
        {
          "output_type": "display_data",
          "data": {
            "text/plain": [
              "<Figure size 432x288 with 1 Axes>"
            ],
            "image/png": "[encoded data removed]"
          },
          "metadata": {
            "needs_background": "light"
          }
        },
        {
          "output_type": "stream",
          "name": "stdout",
          "text": [
            "\n",
            "\n",
            "X22\n",
            "0.0         6693\n",
            "1.0           21\n",
            "2.0           13\n",
            "3.0           13\n",
            "4.0           12\n",
            "            ... \n",
            "332000.0       1\n",
            "379267.0       1\n",
            "388071.0       1\n",
            "417990.0       1\n",
            "426529.0       1\n",
            "Length: 6890, dtype: int64\n",
            "count     29958.000000\n",
            "mean       4801.481574\n",
            "std       15285.552652\n",
            "min           0.000000\n",
            "25%         253.250000\n",
            "50%        1500.000000\n",
            "75%        4040.000000\n",
            "max      426529.000000\n",
            "Name: X22, dtype: float64\n"
          ]
        },
        {
          "output_type": "display_data",
          "data": {
            "text/plain": [
              "<Figure size 432x288 with 1 Axes>"
            ],
            "image/png": "[encoded data removed]"
          },
          "metadata": {
            "needs_background": "light"
          }
        },
        {
          "output_type": "stream",
          "name": "stdout",
          "text": [
            "\n",
            "\n"
          ]
        },
        {
          "output_type": "display_data",
          "data": {
            "text/plain": [
              "<Figure size 432x288 with 1 Axes>"
            ],
            "image/png": "[encoded data removed]"
          },
          "metadata": {
            "needs_background": "light"
          }
        },
        {
          "output_type": "stream",
          "name": "stdout",
          "text": [
            "\n",
            "\n",
            "X23\n",
            "0.0         7160\n",
            "1.0           20\n",
            "2.0            9\n",
            "3.0           14\n",
            "4.0           12\n",
            "            ... \n",
            "403500.0       1\n",
            "422000.0       1\n",
            "443001.0       1\n",
            "527143.0       1\n",
            "528666.0       1\n",
            "Length: 6935, dtype: int64\n",
            "count     29958.000000\n",
            "mean       5220.708025\n",
            "std       17788.983767\n",
            "min           0.000000\n",
            "25%         118.000000\n",
            "50%        1500.000000\n",
            "75%        4000.000000\n",
            "max      528666.000000\n",
            "Name: X23, dtype: float64\n"
          ]
        },
        {
          "output_type": "display_data",
          "data": {
            "text/plain": [
              "<Figure size 432x288 with 1 Axes>"
            ],
            "image/png": "[encoded data removed]"
          },
          "metadata": {
            "needs_background": "light"
          }
        },
        {
          "output_type": "stream",
          "name": "stdout",
          "text": [
            "\n",
            "\n"
          ]
        },
        {
          "output_type": "display_data",
          "data": {
            "text/plain": [
              "<Figure size 432x288 with 1 Axes>"
            ],
            "image/png": "[encoded data removed]"
          },
          "metadata": {
            "needs_background": "light"
          }
        },
        {
          "output_type": "stream",
          "name": "stdout",
          "text": [
            "\n",
            "\n"
          ]
        }
      ]
    },
    {
      "cell_type": "markdown",
      "source": [
        "5. Realiza el conteo de las variables categóricas"
      ],
      "metadata": {
        "id": "VQLnPLT0icFZ"
      }
    },
    {
      "cell_type": "code",
      "source": [
        "#Calcularemos para las variables numéricas sus histogramas y boxplots\n",
        "for f in df[categoricas].columns:\n",
        "  print (df.groupby([f]).size())\n",
        "  print(df[f].describe(include='all'))\n",
        "  plt.hist(df[f], bins=11)\n",
        "  plt.xlabel(f) \n",
        "  plt.ylabel('Frecuencia') \n",
        "  plt.title(f)\n",
        "  plt.show()\n",
        "  print(\"\\n\")\n",
        "  plt.boxplot(df[f])\n",
        "  plt.show()\n",
        "  print(\"\\n\")\n",
        "\n",
        "  #Se observa que X2 contiene solamente 2 clases diferentes, X3 contiene 7 clases, X4 4 clases\n",
        "  "
      ],
      "metadata": {
        "id": "3vJiSq_-h_XF",
        "colab": {
          "base_uri": "https://localhost:8080/",
          "height": 1000
        },
        "outputId": "bc28d994-2d4a-46d1-cf0a-1df7c49b06de"
      },
      "execution_count": 48,
      "outputs": [
        {
          "output_type": "stream",
          "name": "stdout",
          "text": [
            "X2\n",
            "1.0    11863\n",
            "2.0    18095\n",
            "dtype: int64\n",
            "count    29958.000000\n",
            "mean         1.604012\n",
            "std          0.489070\n",
            "min          1.000000\n",
            "25%          1.000000\n",
            "50%          2.000000\n",
            "75%          2.000000\n",
            "max          2.000000\n",
            "Name: X2, dtype: float64\n"
          ]
        },
        {
          "output_type": "display_data",
          "data": {
            "text/plain": [
              "<Figure size 432x288 with 1 Axes>"
            ],
            "image/png": "[encoded data removed]"
          },
          "metadata": {
            "needs_background": "light"
          }
        },
        {
          "output_type": "stream",
          "name": "stdout",
          "text": [
            "\n",
            "\n"
          ]
        },
        {
          "output_type": "display_data",
          "data": {
            "text/plain": [
              "<Figure size 432x288 with 1 Axes>"
            ],
            "image/png": "[encoded data removed]"
          },
          "metadata": {
            "needs_background": "light"
          }
        },
        {
          "output_type": "stream",
          "name": "stdout",
          "text": [
            "\n",
            "\n",
            "X3\n",
            "0.0       14\n",
            "1.0    10572\n",
            "2.0    14009\n",
            "3.0     4909\n",
            "4.0      123\n",
            "5.0      280\n",
            "6.0       51\n",
            "dtype: int64\n",
            "count    29958.000000\n",
            "mean         1.853094\n",
            "std          0.790471\n",
            "min          0.000000\n",
            "25%          1.000000\n",
            "50%          2.000000\n",
            "75%          2.000000\n",
            "max          6.000000\n",
            "Name: X3, dtype: float64\n"
          ]
        },
        {
          "output_type": "display_data",
          "data": {
            "text/plain": [
              "<Figure size 432x288 with 1 Axes>"
            ],
            "image/png": "[encoded data removed]"
          },
          "metadata": {
            "needs_background": "light"
          }
        },
        {
          "output_type": "stream",
          "name": "stdout",
          "text": [
            "\n",
            "\n"
          ]
        },
        {
          "output_type": "display_data",
          "data": {
            "text/plain": [
              "<Figure size 432x288 with 1 Axes>"
            ],
            "image/png": "[encoded data removed]"
          },
          "metadata": {
            "needs_background": "light"
          }
        },
        {
          "output_type": "stream",
          "name": "stdout",
          "text": [
            "\n",
            "\n",
            "X4\n",
            "0.0       54\n",
            "1.0    13643\n",
            "2.0    15939\n",
            "3.0      322\n",
            "dtype: int64\n",
            "count    29958.000000\n",
            "mean         1.551739\n",
            "std          0.521952\n",
            "min          0.000000\n",
            "25%          1.000000\n",
            "50%          2.000000\n",
            "75%          2.000000\n",
            "max          3.000000\n",
            "Name: X4, dtype: float64\n"
          ]
        },
        {
          "output_type": "display_data",
          "data": {
            "text/plain": [
              "<Figure size 432x288 with 1 Axes>"
            ],
            "image/png": "[encoded data removed]"
          },
          "metadata": {
            "needs_background": "light"
          }
        },
        {
          "output_type": "stream",
          "name": "stdout",
          "text": [
            "\n",
            "\n"
          ]
        },
        {
          "output_type": "display_data",
          "data": {
            "text/plain": [
              "<Figure size 432x288 with 1 Axes>"
            ],
            "image/png": "[encoded data removed]"
          },
          "metadata": {
            "needs_background": "light"
          }
        },
        {
          "output_type": "stream",
          "name": "stdout",
          "text": [
            "\n",
            "\n"
          ]
        }
      ]
    },
    {
      "cell_type": "markdown",
      "source": [
        "6. Escala los datos, si consideras necesario"
      ],
      "metadata": {
        "id": "EfgGs3iOiffl"
      }
    },
    {
      "cell_type": "code",
      "source": [
        "df_x = df.iloc[:,1:24]  #Tiramos la variable de Id y Y"
      ],
      "metadata": {
        "id": "H6pz2sN9uw5u"
      },
      "execution_count": 90,
      "outputs": []
    },
    {
      "cell_type": "code",
      "source": [
        "from sklearn.pipeline import Pipeline\n",
        "from sklearn.pipeline import make_pipeline\n",
        "from sklearn.impute import SimpleImputer\n",
        "from sklearn.preprocessing import StandardScaler\n",
        "from sklearn.compose import ColumnTransformer\n",
        "\n",
        "#Imputamos datos faltantes y escalamos los numéricos\n",
        "pipeline_category = Pipeline(steps = [\n",
        "    ('input_category', SimpleImputer(strategy='most_frequent'))])\n",
        "\n",
        "pipeline_numerico = Pipeline(steps = [\n",
        "    ('input_category', SimpleImputer(strategy='median')),\n",
        "    ('scaler', StandardScaler())\n",
        "])\n",
        "\n",
        "columnasTransformer = ColumnTransformer([\n",
        "    ( 'pipline_category', pipeline_category, categoricas),\n",
        "    ( 'pipline_numerico', pipeline_numerico, numericas),\n",
        "])\n",
        "\n",
        "df_nuevo = columnasTransformer.fit_transform(df_x)"
      ],
      "metadata": {
        "id": "E5oW5GdsiDH5"
      },
      "execution_count": 91,
      "outputs": []
    },
    {
      "cell_type": "code",
      "source": [
        "df_nuevo.shape"
      ],
      "metadata": {
        "colab": {
          "base_uri": "https://localhost:8080/"
        },
        "id": "rJmPYd8Kq0p-",
        "outputId": "afddcb77-5ebb-48f7-a1a2-374809611af6"
      },
      "execution_count": 92,
      "outputs": [
        {
          "output_type": "execute_result",
          "data": {
            "text/plain": [
              "(29958, 23)"
            ]
          },
          "metadata": {},
          "execution_count": 92
        }
      ]
    },
    {
      "cell_type": "markdown",
      "source": [
        "7. Reduce las dimensiones con PCA, si consideras necesario.\n",
        "\n",
        "\n",
        "       a)   Indica la varianza de los datos explicada por cada componente seleccionado. Para actividades de exploración de los datos la varianza > 70% \n",
        "\n",
        "       b)   Indica la importancia de las variables en cada componente\n",
        "\n"
      ],
      "metadata": {
        "id": "GFG1ad8uirN-"
      }
    },
    {
      "cell_type": "code",
      "source": [
        "from sklearn.decomposition import PCA\n",
        "pcs = PCA()\n",
        "pcs.fit(df_nuevo)"
      ],
      "metadata": {
        "id": "H3K-pDDeiq7x",
        "colab": {
          "base_uri": "https://localhost:8080/"
        },
        "outputId": "06f6cb72-a283-4c6e-984c-2d98dad3e519"
      },
      "execution_count": 93,
      "outputs": [
        {
          "output_type": "execute_result",
          "data": {
            "text/plain": [
              "PCA()"
            ]
          },
          "metadata": {},
          "execution_count": 93
        }
      ]
    },
    {
      "cell_type": "code",
      "source": [
        "pcsSummary_df = pd.DataFrame({'Standard deviation': np.sqrt(pcs.explained_variance_),\n",
        "                             'Proportion of variance': pcs.explained_variance_ratio_,\n",
        "                             'Cumulative proportion': np.cumsum(pcs.explained_variance_ratio_)\n",
        "                             })\n",
        "\n",
        "pcsSummary_df = pcsSummary_df.transpose()\n",
        "pcsSummary_df.columns = ['PC{}'.format(i) for i in range(1, len(pcsSummary_df.columns) + 1)]\n",
        "pcsSummary_df.round(4) "
      ],
      "metadata": {
        "colab": {
          "base_uri": "https://localhost:8080/",
          "height": 173
        },
        "id": "teIQJKhqteW8",
        "outputId": "bc930104-416d-42e3-9193-e0b5fd50d1ba"
      },
      "execution_count": 94,
      "outputs": [
        {
          "output_type": "execute_result",
          "data": {
            "text/plain": [
              "                           PC1     PC2     PC3     PC4     PC5     PC6  \\\n",
              "Standard deviation      2.7028  2.1918  1.2424  1.0513  0.9776  0.9444   \n",
              "Proportion of variance  0.3144  0.2068  0.0664  0.0476  0.0411  0.0384   \n",
              "Cumulative proportion   0.3144  0.5212  0.5877  0.6352  0.6764  0.7148   \n",
              "\n",
              "                           PC7     PC8     PC9    PC10  ...    PC14    PC15  \\\n",
              "Standard deviation      0.9378  0.9355  0.8871  0.8596  ...  0.5947  0.5176   \n",
              "Proportion of variance  0.0379  0.0377  0.0339  0.0318  ...  0.0152  0.0115   \n",
              "Cumulative proportion   0.7526  0.7903  0.8242  0.8560  ...  0.9445  0.9560   \n",
              "\n",
              "                          PC16    PC17    PC18    PC19    PC20    PC21  \\\n",
              "Standard deviation      0.5016  0.4858  0.4482  0.4176  0.2650  0.2020   \n",
              "Proportion of variance  0.0108  0.0102  0.0086  0.0075  0.0030  0.0018   \n",
              "Cumulative proportion   0.9668  0.9770  0.9856  0.9931  0.9962  0.9979   \n",
              "\n",
              "                          PC22    PC23  \n",
              "Standard deviation      0.1590  0.1524  \n",
              "Proportion of variance  0.0011  0.0010  \n",
              "Cumulative proportion   0.9990  1.0000  \n",
              "\n",
              "[3 rows x 23 columns]"
            ],
            "text/html": [
              "\n",
              "  <div id=\"df-5244497d-4e4f-49b8-8228-e0c3c9e054ec\">\n",
              "    <div class=\"colab-df-container\">\n",
              "      <div>\n",
              "<style scoped>\n",
              "    .dataframe tbody tr th:only-of-type {\n",
              "        vertical-align: middle;\n",
              "    }\n",
              "\n",
              "    .dataframe tbody tr th {\n",
              "        vertical-align: top;\n",
              "    }\n",
              "\n",
              "    .dataframe thead th {\n",
              "        text-align: right;\n",
              "    }\n",
              "</style>\n",
              "<table border=\"1\" class=\"dataframe\">\n",
              "  <thead>\n",
              "    <tr style=\"text-align: right;\">\n",
              "      <th></th>\n",
              "      <th>PC1</th>\n",
              "      <th>PC2</th>\n",
              "      <th>PC3</th>\n",
              "      <th>PC4</th>\n",
              "      <th>PC5</th>\n",
              "      <th>PC6</th>\n",
              "      <th>PC7</th>\n",
              "      <th>PC8</th>\n",
              "      <th>PC9</th>\n",
              "      <th>PC10</th>\n",
              "      <th>...</th>\n",
              "      <th>PC14</th>\n",
              "      <th>PC15</th>\n",
              "      <th>PC16</th>\n",
              "      <th>PC17</th>\n",
              "      <th>PC18</th>\n",
              "      <th>PC19</th>\n",
              "      <th>PC20</th>\n",
              "      <th>PC21</th>\n",
              "      <th>PC22</th>\n",
              "      <th>PC23</th>\n",
              "    </tr>\n",
              "  </thead>\n",
              "  <tbody>\n",
              "    <tr>\n",
              "      <th>Standard deviation</th>\n",
              "      <td>2.7028</td>\n",
              "      <td>2.1918</td>\n",
              "      <td>1.2424</td>\n",
              "      <td>1.0513</td>\n",
              "      <td>0.9776</td>\n",
              "      <td>0.9444</td>\n",
              "      <td>0.9378</td>\n",
              "      <td>0.9355</td>\n",
              "      <td>0.8871</td>\n",
              "      <td>0.8596</td>\n",
              "      <td>...</td>\n",
              "      <td>0.5947</td>\n",
              "      <td>0.5176</td>\n",
              "      <td>0.5016</td>\n",
              "      <td>0.4858</td>\n",
              "      <td>0.4482</td>\n",
              "      <td>0.4176</td>\n",
              "      <td>0.2650</td>\n",
              "      <td>0.2020</td>\n",
              "      <td>0.1590</td>\n",
              "      <td>0.1524</td>\n",
              "    </tr>\n",
              "    <tr>\n",
              "      <th>Proportion of variance</th>\n",
              "      <td>0.3144</td>\n",
              "      <td>0.2068</td>\n",
              "      <td>0.0664</td>\n",
              "      <td>0.0476</td>\n",
              "      <td>0.0411</td>\n",
              "      <td>0.0384</td>\n",
              "      <td>0.0379</td>\n",
              "      <td>0.0377</td>\n",
              "      <td>0.0339</td>\n",
              "      <td>0.0318</td>\n",
              "      <td>...</td>\n",
              "      <td>0.0152</td>\n",
              "      <td>0.0115</td>\n",
              "      <td>0.0108</td>\n",
              "      <td>0.0102</td>\n",
              "      <td>0.0086</td>\n",
              "      <td>0.0075</td>\n",
              "      <td>0.0030</td>\n",
              "      <td>0.0018</td>\n",
              "      <td>0.0011</td>\n",
              "      <td>0.0010</td>\n",
              "    </tr>\n",
              "    <tr>\n",
              "      <th>Cumulative proportion</th>\n",
              "      <td>0.3144</td>\n",
              "      <td>0.5212</td>\n",
              "      <td>0.5877</td>\n",
              "      <td>0.6352</td>\n",
              "      <td>0.6764</td>\n",
              "      <td>0.7148</td>\n",
              "      <td>0.7526</td>\n",
              "      <td>0.7903</td>\n",
              "      <td>0.8242</td>\n",
              "      <td>0.8560</td>\n",
              "      <td>...</td>\n",
              "      <td>0.9445</td>\n",
              "      <td>0.9560</td>\n",
              "      <td>0.9668</td>\n",
              "      <td>0.9770</td>\n",
              "      <td>0.9856</td>\n",
              "      <td>0.9931</td>\n",
              "      <td>0.9962</td>\n",
              "      <td>0.9979</td>\n",
              "      <td>0.9990</td>\n",
              "      <td>1.0000</td>\n",
              "    </tr>\n",
              "  </tbody>\n",
              "</table>\n",
              "<p>3 rows × 23 columns</p>\n",
              "</div>\n",
              "      <button class=\"colab-df-convert\" onclick=\"convertToInteractive('df-5244497d-4e4f-49b8-8228-e0c3c9e054ec')\"\n",
              "              title=\"Convert this dataframe to an interactive table.\"\n",
              "              style=\"display:none;\">\n",
              "        \n",
              "  <svg xmlns=\"http://www.w3.org/2000/svg\" height=\"24px\"viewBox=\"0 0 24 24\"\n",
              "       width=\"24px\">\n",
              "    <path d=\"M0 0h24v24H0V0z\" fill=\"none\"/>\n",
              "    <path d=\"M18.56 5.44l.94 2.06.94-2.06 2.06-.94-2.06-.94-.94-2.06-.94 2.06-2.06.94zm-11 1L8.5 8.5l.94-2.06 2.06-.94-2.06-.94L8.5 2.5l-.94 2.06-2.06.94zm10 10l.94 2.06.94-2.06 2.06-.94-2.06-.94-.94-2.06-.94 2.06-2.06.94z\"/><path d=\"M17.41 7.96l-1.37-1.37c-.4-.4-.92-.59-1.43-.59-.52 0-1.04.2-1.43.59L10.3 9.45l-7.72 7.72c-.78.78-.78 2.05 0 2.83L4 21.41c.39.39.9.59 1.41.59.51 0 1.02-.2 1.41-.59l7.78-7.78 2.81-2.81c.8-.78.8-2.07 0-2.86zM5.41 20L4 18.59l7.72-7.72 1.47 1.35L5.41 20z\"/>\n",
              "  </svg>\n",
              "      </button>\n",
              "      \n",
              "  <style>\n",
              "    .colab-df-container {\n",
              "      display:flex;\n",
              "      flex-wrap:wrap;\n",
              "      gap: 12px;\n",
              "    }\n",
              "\n",
              "    .colab-df-convert {\n",
              "      background-color: #E8F0FE;\n",
              "      border: none;\n",
              "      border-radius: 50%;\n",
              "      cursor: pointer;\n",
              "      display: none;\n",
              "      fill: #1967D2;\n",
              "      height: 32px;\n",
              "      padding: 0 0 0 0;\n",
              "      width: 32px;\n",
              "    }\n",
              "\n",
              "    .colab-df-convert:hover {\n",
              "      background-color: #E2EBFA;\n",
              "      box-shadow: 0px 1px 2px rgba(60, 64, 67, 0.3), 0px 1px 3px 1px rgba(60, 64, 67, 0.15);\n",
              "      fill: #174EA6;\n",
              "    }\n",
              "\n",
              "    [theme=dark] .colab-df-convert {\n",
              "      background-color: #3B4455;\n",
              "      fill: #D2E3FC;\n",
              "    }\n",
              "\n",
              "    [theme=dark] .colab-df-convert:hover {\n",
              "      background-color: #434B5C;\n",
              "      box-shadow: 0px 1px 3px 1px rgba(0, 0, 0, 0.15);\n",
              "      filter: drop-shadow(0px 1px 2px rgba(0, 0, 0, 0.3));\n",
              "      fill: #FFFFFF;\n",
              "    }\n",
              "  </style>\n",
              "\n",
              "      <script>\n",
              "        const buttonEl =\n",
              "          document.querySelector('#df-5244497d-4e4f-49b8-8228-e0c3c9e054ec button.colab-df-convert');\n",
              "        buttonEl.style.display =\n",
              "          google.colab.kernel.accessAllowed ? 'block' : 'none';\n",
              "\n",
              "        async function convertToInteractive(key) {\n",
              "          const element = document.querySelector('#df-5244497d-4e4f-49b8-8228-e0c3c9e054ec');\n",
              "          const dataTable =\n",
              "            await google.colab.kernel.invokeFunction('convertToInteractive',\n",
              "                                                     [key], {});\n",
              "          if (!dataTable) return;\n",
              "\n",
              "          const docLinkHtml = 'Like what you see? Visit the ' +\n",
              "            '<a target=\"_blank\" href=https://colab.research.google.com/notebooks/data_table.ipynb>data table notebook</a>'\n",
              "            + ' to learn more about interactive tables.';\n",
              "          element.innerHTML = '';\n",
              "          dataTable['output_type'] = 'display_data';\n",
              "          await google.colab.output.renderOutput(dataTable, element);\n",
              "          const docLink = document.createElement('div');\n",
              "          docLink.innerHTML = docLinkHtml;\n",
              "          element.appendChild(docLink);\n",
              "        }\n",
              "      </script>\n",
              "    </div>\n",
              "  </div>\n",
              "  "
            ]
          },
          "metadata": {},
          "execution_count": 94
        }
      ]
    },
    {
      "cell_type": "code",
      "source": [
        "#Nos vamos a quedar con los primeros 10 componentes que explican aproximadamente el 85% de la varianza"
      ],
      "metadata": {
        "id": "PZuEHZskuWhi"
      },
      "execution_count": null,
      "outputs": []
    },
    {
      "cell_type": "code",
      "source": [
        "pcsComponents_df = pd.DataFrame(pcs.components_.transpose(), \n",
        "                                columns = pcsSummary_df.columns,\n",
        "                                index = df_x.columns\n",
        "                                )\n",
        "pcsComponents_df.iloc[:,:10]"
      ],
      "metadata": {
        "colab": {
          "base_uri": "https://localhost:8080/",
          "height": 770
        },
        "id": "iTZThcDQul3y",
        "outputId": "630ae8b9-181b-43f7-b016-a87af1fa01c6"
      },
      "execution_count": 99,
      "outputs": [
        {
          "output_type": "execute_result",
          "data": {
            "text/plain": [
              "          PC1       PC2       PC3       PC4       PC5       PC6       PC7  \\\n",
              "X1  -0.011155  0.007443 -0.002585 -0.045132  0.009958 -0.000744 -0.008713   \n",
              "X2   0.025494 -0.050464 -0.054017  0.282639  0.034752  0.042676  0.174543   \n",
              "X3   0.001397 -0.016696  0.016351 -0.257626 -0.011508  0.008300  0.008016   \n",
              "X4   0.237736 -0.233080 -0.065667  0.043739 -0.344377  0.035385  0.434040   \n",
              "X5   0.301978 -0.277584 -0.003978  0.042049 -0.312369  0.024387  0.275896   \n",
              "X6   0.311843 -0.285436  0.077980  0.032800 -0.115344  0.044875  0.044451   \n",
              "X7   0.311316 -0.275205  0.133016  0.025030  0.102141  0.034011 -0.214439   \n",
              "X8   0.301594 -0.250567  0.156579  0.005155  0.229127 -0.031022 -0.306086   \n",
              "X9   0.294726 -0.229615  0.161139 -0.005464  0.275284 -0.151814 -0.314750   \n",
              "X10 -0.002440  0.293028  0.086141  0.102931 -0.094883 -0.050965 -0.303131   \n",
              "X11 -0.000690  0.059726 -0.041442  0.910475  0.051994 -0.025617 -0.038728   \n",
              "X12  0.267608  0.244629 -0.225827 -0.020272 -0.055754  0.025751  0.003199   \n",
              "X13  0.278063  0.248580 -0.195724 -0.025806  0.003381  0.084698  0.027676   \n",
              "X14  0.280902  0.254378 -0.133423 -0.027135  0.051131  0.153142  0.037877   \n",
              "X15  0.284945  0.254911 -0.119710 -0.033302  0.093917  0.040701  0.022762   \n",
              "X16  0.283704  0.252214 -0.101116 -0.036816  0.079308 -0.124513  0.023948   \n",
              "X17  0.277841  0.247659 -0.091440 -0.036502 -0.012895 -0.150340 -0.028419   \n",
              "X18  0.056719  0.156865  0.398605  0.004038  0.210501  0.316085  0.232842   \n",
              "X19  0.044781  0.143236  0.431284  0.008694  0.186268  0.322287  0.263145   \n",
              "X20  0.049116  0.156319  0.394303  0.010184  0.149951 -0.219808  0.243915   \n",
              "X21  0.043486  0.144503  0.335470  0.001238 -0.117796 -0.672016  0.163391   \n",
              "X22  0.041918  0.140279  0.262940  0.012779 -0.568516 -0.104597 -0.251926   \n",
              "X23  0.039046  0.131151  0.294987  0.027146 -0.398845  0.424424 -0.305862   \n",
              "\n",
              "          PC8       PC9      PC10  \n",
              "X1   0.002550 -0.006880  0.002098  \n",
              "X2   0.028082 -0.063213  0.012895  \n",
              "X3   0.002160  0.006325 -0.004674  \n",
              "X4  -0.043976  0.090059  0.079450  \n",
              "X5  -0.040657  0.054527  0.019410  \n",
              "X6  -0.026209 -0.032691 -0.174788  \n",
              "X7   0.039060 -0.090581 -0.008432  \n",
              "X8   0.041351  0.057720  0.033376  \n",
              "X9  -0.014548 -0.007513  0.062845  \n",
              "X10 -0.060770  0.077772 -0.001454  \n",
              "X11  0.011115  0.000847 -0.006115  \n",
              "X12 -0.048983  0.004253  0.008068  \n",
              "X13 -0.048802 -0.044865 -0.130845  \n",
              "X14  0.064163 -0.114867  0.103890  \n",
              "X15  0.009405  0.122776  0.027325  \n",
              "X16 -0.060081 -0.011992  0.046317  \n",
              "X17  0.119527  0.000532 -0.004925  \n",
              "X18 -0.046322 -0.233283 -0.704984  \n",
              "X19  0.328177 -0.214897  0.600088  \n",
              "X20 -0.051676  0.785528 -0.023885  \n",
              "X21 -0.319752 -0.461666  0.083175  \n",
              "X22  0.636873  0.014059 -0.174127  \n",
              "X23 -0.583451  0.068477  0.177715  "
            ],
            "text/html": [
              "\n",
              "  <div id=\"df-89aed177-f820-4cb2-a671-d858e03b6386\">\n",
              "    <div class=\"colab-df-container\">\n",
              "      <div>\n",
              "<style scoped>\n",
              "    .dataframe tbody tr th:only-of-type {\n",
              "        vertical-align: middle;\n",
              "    }\n",
              "\n",
              "    .dataframe tbody tr th {\n",
              "        vertical-align: top;\n",
              "    }\n",
              "\n",
              "    .dataframe thead th {\n",
              "        text-align: right;\n",
              "    }\n",
              "</style>\n",
              "<table border=\"1\" class=\"dataframe\">\n",
              "  <thead>\n",
              "    <tr style=\"text-align: right;\">\n",
              "      <th></th>\n",
              "      <th>PC1</th>\n",
              "      <th>PC2</th>\n",
              "      <th>PC3</th>\n",
              "      <th>PC4</th>\n",
              "      <th>PC5</th>\n",
              "      <th>PC6</th>\n",
              "      <th>PC7</th>\n",
              "      <th>PC8</th>\n",
              "      <th>PC9</th>\n",
              "      <th>PC10</th>\n",
              "    </tr>\n",
              "  </thead>\n",
              "  <tbody>\n",
              "    <tr>\n",
              "      <th>X1</th>\n",
              "      <td>-0.011155</td>\n",
              "      <td>0.007443</td>\n",
              "      <td>-0.002585</td>\n",
              "      <td>-0.045132</td>\n",
              "      <td>0.009958</td>\n",
              "      <td>-0.000744</td>\n",
              "      <td>-0.008713</td>\n",
              "      <td>0.002550</td>\n",
              "      <td>-0.006880</td>\n",
              "      <td>0.002098</td>\n",
              "    </tr>\n",
              "    <tr>\n",
              "      <th>X2</th>\n",
              "      <td>0.025494</td>\n",
              "      <td>-0.050464</td>\n",
              "      <td>-0.054017</td>\n",
              "      <td>0.282639</td>\n",
              "      <td>0.034752</td>\n",
              "      <td>0.042676</td>\n",
              "      <td>0.174543</td>\n",
              "      <td>0.028082</td>\n",
              "      <td>-0.063213</td>\n",
              "      <td>0.012895</td>\n",
              "    </tr>\n",
              "    <tr>\n",
              "      <th>X3</th>\n",
              "      <td>0.001397</td>\n",
              "      <td>-0.016696</td>\n",
              "      <td>0.016351</td>\n",
              "      <td>-0.257626</td>\n",
              "      <td>-0.011508</td>\n",
              "      <td>0.008300</td>\n",
              "      <td>0.008016</td>\n",
              "      <td>0.002160</td>\n",
              "      <td>0.006325</td>\n",
              "      <td>-0.004674</td>\n",
              "    </tr>\n",
              "    <tr>\n",
              "      <th>X4</th>\n",
              "      <td>0.237736</td>\n",
              "      <td>-0.233080</td>\n",
              "      <td>-0.065667</td>\n",
              "      <td>0.043739</td>\n",
              "      <td>-0.344377</td>\n",
              "      <td>0.035385</td>\n",
              "      <td>0.434040</td>\n",
              "      <td>-0.043976</td>\n",
              "      <td>0.090059</td>\n",
              "      <td>0.079450</td>\n",
              "    </tr>\n",
              "    <tr>\n",
              "      <th>X5</th>\n",
              "      <td>0.301978</td>\n",
              "      <td>-0.277584</td>\n",
              "      <td>-0.003978</td>\n",
              "      <td>0.042049</td>\n",
              "      <td>-0.312369</td>\n",
              "      <td>0.024387</td>\n",
              "      <td>0.275896</td>\n",
              "      <td>-0.040657</td>\n",
              "      <td>0.054527</td>\n",
              "      <td>0.019410</td>\n",
              "    </tr>\n",
              "    <tr>\n",
              "      <th>X6</th>\n",
              "      <td>0.311843</td>\n",
              "      <td>-0.285436</td>\n",
              "      <td>0.077980</td>\n",
              "      <td>0.032800</td>\n",
              "      <td>-0.115344</td>\n",
              "      <td>0.044875</td>\n",
              "      <td>0.044451</td>\n",
              "      <td>-0.026209</td>\n",
              "      <td>-0.032691</td>\n",
              "      <td>-0.174788</td>\n",
              "    </tr>\n",
              "    <tr>\n",
              "      <th>X7</th>\n",
              "      <td>0.311316</td>\n",
              "      <td>-0.275205</td>\n",
              "      <td>0.133016</td>\n",
              "      <td>0.025030</td>\n",
              "      <td>0.102141</td>\n",
              "      <td>0.034011</td>\n",
              "      <td>-0.214439</td>\n",
              "      <td>0.039060</td>\n",
              "      <td>-0.090581</td>\n",
              "      <td>-0.008432</td>\n",
              "    </tr>\n",
              "    <tr>\n",
              "      <th>X8</th>\n",
              "      <td>0.301594</td>\n",
              "      <td>-0.250567</td>\n",
              "      <td>0.156579</td>\n",
              "      <td>0.005155</td>\n",
              "      <td>0.229127</td>\n",
              "      <td>-0.031022</td>\n",
              "      <td>-0.306086</td>\n",
              "      <td>0.041351</td>\n",
              "      <td>0.057720</td>\n",
              "      <td>0.033376</td>\n",
              "    </tr>\n",
              "    <tr>\n",
              "      <th>X9</th>\n",
              "      <td>0.294726</td>\n",
              "      <td>-0.229615</td>\n",
              "      <td>0.161139</td>\n",
              "      <td>-0.005464</td>\n",
              "      <td>0.275284</td>\n",
              "      <td>-0.151814</td>\n",
              "      <td>-0.314750</td>\n",
              "      <td>-0.014548</td>\n",
              "      <td>-0.007513</td>\n",
              "      <td>0.062845</td>\n",
              "    </tr>\n",
              "    <tr>\n",
              "      <th>X10</th>\n",
              "      <td>-0.002440</td>\n",
              "      <td>0.293028</td>\n",
              "      <td>0.086141</td>\n",
              "      <td>0.102931</td>\n",
              "      <td>-0.094883</td>\n",
              "      <td>-0.050965</td>\n",
              "      <td>-0.303131</td>\n",
              "      <td>-0.060770</td>\n",
              "      <td>0.077772</td>\n",
              "      <td>-0.001454</td>\n",
              "    </tr>\n",
              "    <tr>\n",
              "      <th>X11</th>\n",
              "      <td>-0.000690</td>\n",
              "      <td>0.059726</td>\n",
              "      <td>-0.041442</td>\n",
              "      <td>0.910475</td>\n",
              "      <td>0.051994</td>\n",
              "      <td>-0.025617</td>\n",
              "      <td>-0.038728</td>\n",
              "      <td>0.011115</td>\n",
              "      <td>0.000847</td>\n",
              "      <td>-0.006115</td>\n",
              "    </tr>\n",
              "    <tr>\n",
              "      <th>X12</th>\n",
              "      <td>0.267608</td>\n",
              "      <td>0.244629</td>\n",
              "      <td>-0.225827</td>\n",
              "      <td>-0.020272</td>\n",
              "      <td>-0.055754</td>\n",
              "      <td>0.025751</td>\n",
              "      <td>0.003199</td>\n",
              "      <td>-0.048983</td>\n",
              "      <td>0.004253</td>\n",
              "      <td>0.008068</td>\n",
              "    </tr>\n",
              "    <tr>\n",
              "      <th>X13</th>\n",
              "      <td>0.278063</td>\n",
              "      <td>0.248580</td>\n",
              "      <td>-0.195724</td>\n",
              "      <td>-0.025806</td>\n",
              "      <td>0.003381</td>\n",
              "      <td>0.084698</td>\n",
              "      <td>0.027676</td>\n",
              "      <td>-0.048802</td>\n",
              "      <td>-0.044865</td>\n",
              "      <td>-0.130845</td>\n",
              "    </tr>\n",
              "    <tr>\n",
              "      <th>X14</th>\n",
              "      <td>0.280902</td>\n",
              "      <td>0.254378</td>\n",
              "      <td>-0.133423</td>\n",
              "      <td>-0.027135</td>\n",
              "      <td>0.051131</td>\n",
              "      <td>0.153142</td>\n",
              "      <td>0.037877</td>\n",
              "      <td>0.064163</td>\n",
              "      <td>-0.114867</td>\n",
              "      <td>0.103890</td>\n",
              "    </tr>\n",
              "    <tr>\n",
              "      <th>X15</th>\n",
              "      <td>0.284945</td>\n",
              "      <td>0.254911</td>\n",
              "      <td>-0.119710</td>\n",
              "      <td>-0.033302</td>\n",
              "      <td>0.093917</td>\n",
              "      <td>0.040701</td>\n",
              "      <td>0.022762</td>\n",
              "      <td>0.009405</td>\n",
              "      <td>0.122776</td>\n",
              "      <td>0.027325</td>\n",
              "    </tr>\n",
              "    <tr>\n",
              "      <th>X16</th>\n",
              "      <td>0.283704</td>\n",
              "      <td>0.252214</td>\n",
              "      <td>-0.101116</td>\n",
              "      <td>-0.036816</td>\n",
              "      <td>0.079308</td>\n",
              "      <td>-0.124513</td>\n",
              "      <td>0.023948</td>\n",
              "      <td>-0.060081</td>\n",
              "      <td>-0.011992</td>\n",
              "      <td>0.046317</td>\n",
              "    </tr>\n",
              "    <tr>\n",
              "      <th>X17</th>\n",
              "      <td>0.277841</td>\n",
              "      <td>0.247659</td>\n",
              "      <td>-0.091440</td>\n",
              "      <td>-0.036502</td>\n",
              "      <td>-0.012895</td>\n",
              "      <td>-0.150340</td>\n",
              "      <td>-0.028419</td>\n",
              "      <td>0.119527</td>\n",
              "      <td>0.000532</td>\n",
              "      <td>-0.004925</td>\n",
              "    </tr>\n",
              "    <tr>\n",
              "      <th>X18</th>\n",
              "      <td>0.056719</td>\n",
              "      <td>0.156865</td>\n",
              "      <td>0.398605</td>\n",
              "      <td>0.004038</td>\n",
              "      <td>0.210501</td>\n",
              "      <td>0.316085</td>\n",
              "      <td>0.232842</td>\n",
              "      <td>-0.046322</td>\n",
              "      <td>-0.233283</td>\n",
              "      <td>-0.704984</td>\n",
              "    </tr>\n",
              "    <tr>\n",
              "      <th>X19</th>\n",
              "      <td>0.044781</td>\n",
              "      <td>0.143236</td>\n",
              "      <td>0.431284</td>\n",
              "      <td>0.008694</td>\n",
              "      <td>0.186268</td>\n",
              "      <td>0.322287</td>\n",
              "      <td>0.263145</td>\n",
              "      <td>0.328177</td>\n",
              "      <td>-0.214897</td>\n",
              "      <td>0.600088</td>\n",
              "    </tr>\n",
              "    <tr>\n",
              "      <th>X20</th>\n",
              "      <td>0.049116</td>\n",
              "      <td>0.156319</td>\n",
              "      <td>0.394303</td>\n",
              "      <td>0.010184</td>\n",
              "      <td>0.149951</td>\n",
              "      <td>-0.219808</td>\n",
              "      <td>0.243915</td>\n",
              "      <td>-0.051676</td>\n",
              "      <td>0.785528</td>\n",
              "      <td>-0.023885</td>\n",
              "    </tr>\n",
              "    <tr>\n",
              "      <th>X21</th>\n",
              "      <td>0.043486</td>\n",
              "      <td>0.144503</td>\n",
              "      <td>0.335470</td>\n",
              "      <td>0.001238</td>\n",
              "      <td>-0.117796</td>\n",
              "      <td>-0.672016</td>\n",
              "      <td>0.163391</td>\n",
              "      <td>-0.319752</td>\n",
              "      <td>-0.461666</td>\n",
              "      <td>0.083175</td>\n",
              "    </tr>\n",
              "    <tr>\n",
              "      <th>X22</th>\n",
              "      <td>0.041918</td>\n",
              "      <td>0.140279</td>\n",
              "      <td>0.262940</td>\n",
              "      <td>0.012779</td>\n",
              "      <td>-0.568516</td>\n",
              "      <td>-0.104597</td>\n",
              "      <td>-0.251926</td>\n",
              "      <td>0.636873</td>\n",
              "      <td>0.014059</td>\n",
              "      <td>-0.174127</td>\n",
              "    </tr>\n",
              "    <tr>\n",
              "      <th>X23</th>\n",
              "      <td>0.039046</td>\n",
              "      <td>0.131151</td>\n",
              "      <td>0.294987</td>\n",
              "      <td>0.027146</td>\n",
              "      <td>-0.398845</td>\n",
              "      <td>0.424424</td>\n",
              "      <td>-0.305862</td>\n",
              "      <td>-0.583451</td>\n",
              "      <td>0.068477</td>\n",
              "      <td>0.177715</td>\n",
              "    </tr>\n",
              "  </tbody>\n",
              "</table>\n",
              "</div>\n",
              "      <button class=\"colab-df-convert\" onclick=\"convertToInteractive('df-89aed177-f820-4cb2-a671-d858e03b6386')\"\n",
              "              title=\"Convert this dataframe to an interactive table.\"\n",
              "              style=\"display:none;\">\n",
              "        \n",
              "  <svg xmlns=\"http://www.w3.org/2000/svg\" height=\"24px\"viewBox=\"0 0 24 24\"\n",
              "       width=\"24px\">\n",
              "    <path d=\"M0 0h24v24H0V0z\" fill=\"none\"/>\n",
              "    <path d=\"M18.56 5.44l.94 2.06.94-2.06 2.06-.94-2.06-.94-.94-2.06-.94 2.06-2.06.94zm-11 1L8.5 8.5l.94-2.06 2.06-.94-2.06-.94L8.5 2.5l-.94 2.06-2.06.94zm10 10l.94 2.06.94-2.06 2.06-.94-2.06-.94-.94-2.06-.94 2.06-2.06.94z\"/><path d=\"M17.41 7.96l-1.37-1.37c-.4-.4-.92-.59-1.43-.59-.52 0-1.04.2-1.43.59L10.3 9.45l-7.72 7.72c-.78.78-.78 2.05 0 2.83L4 21.41c.39.39.9.59 1.41.59.51 0 1.02-.2 1.41-.59l7.78-7.78 2.81-2.81c.8-.78.8-2.07 0-2.86zM5.41 20L4 18.59l7.72-7.72 1.47 1.35L5.41 20z\"/>\n",
              "  </svg>\n",
              "      </button>\n",
              "      \n",
              "  <style>\n",
              "    .colab-df-container {\n",
              "      display:flex;\n",
              "      flex-wrap:wrap;\n",
              "      gap: 12px;\n",
              "    }\n",
              "\n",
              "    .colab-df-convert {\n",
              "      background-color: #E8F0FE;\n",
              "      border: none;\n",
              "      border-radius: 50%;\n",
              "      cursor: pointer;\n",
              "      display: none;\n",
              "      fill: #1967D2;\n",
              "      height: 32px;\n",
              "      padding: 0 0 0 0;\n",
              "      width: 32px;\n",
              "    }\n",
              "\n",
              "    .colab-df-convert:hover {\n",
              "      background-color: #E2EBFA;\n",
              "      box-shadow: 0px 1px 2px rgba(60, 64, 67, 0.3), 0px 1px 3px 1px rgba(60, 64, 67, 0.15);\n",
              "      fill: #174EA6;\n",
              "    }\n",
              "\n",
              "    [theme=dark] .colab-df-convert {\n",
              "      background-color: #3B4455;\n",
              "      fill: #D2E3FC;\n",
              "    }\n",
              "\n",
              "    [theme=dark] .colab-df-convert:hover {\n",
              "      background-color: #434B5C;\n",
              "      box-shadow: 0px 1px 3px 1px rgba(0, 0, 0, 0.15);\n",
              "      filter: drop-shadow(0px 1px 2px rgba(0, 0, 0, 0.3));\n",
              "      fill: #FFFFFF;\n",
              "    }\n",
              "  </style>\n",
              "\n",
              "      <script>\n",
              "        const buttonEl =\n",
              "          document.querySelector('#df-89aed177-f820-4cb2-a671-d858e03b6386 button.colab-df-convert');\n",
              "        buttonEl.style.display =\n",
              "          google.colab.kernel.accessAllowed ? 'block' : 'none';\n",
              "\n",
              "        async function convertToInteractive(key) {\n",
              "          const element = document.querySelector('#df-89aed177-f820-4cb2-a671-d858e03b6386');\n",
              "          const dataTable =\n",
              "            await google.colab.kernel.invokeFunction('convertToInteractive',\n",
              "                                                     [key], {});\n",
              "          if (!dataTable) return;\n",
              "\n",
              "          const docLinkHtml = 'Like what you see? Visit the ' +\n",
              "            '<a target=\"_blank\" href=https://colab.research.google.com/notebooks/data_table.ipynb>data table notebook</a>'\n",
              "            + ' to learn more about interactive tables.';\n",
              "          element.innerHTML = '';\n",
              "          dataTable['output_type'] = 'display_data';\n",
              "          await google.colab.output.renderOutput(dataTable, element);\n",
              "          const docLink = document.createElement('div');\n",
              "          docLink.innerHTML = docLinkHtml;\n",
              "          element.appendChild(docLink);\n",
              "        }\n",
              "      </script>\n",
              "    </div>\n",
              "  </div>\n",
              "  "
            ]
          },
          "metadata": {},
          "execution_count": 99
        }
      ]
    },
    {
      "cell_type": "code",
      "source": [
        "#Para mejor visualización vamos a calcular sobre los 10 PC seleccionados la variable que más le está aportando\n",
        "pcsComponents_df.iloc[:,:10].abs().idxmax()\n",
        "\n",
        "#Como resultado vemos que los PC se afecta por las variables 6, 10, 19, 11, 22, 21, 4, 22, 20 y 18 respectivamente"
      ],
      "metadata": {
        "colab": {
          "base_uri": "https://localhost:8080/"
        },
        "id": "boQNXCLQvs3r",
        "outputId": "41a30ea8-4711-44e7-f8cd-1a20775dbf57"
      },
      "execution_count": 100,
      "outputs": [
        {
          "output_type": "execute_result",
          "data": {
            "text/plain": [
              "PC1      X6\n",
              "PC2     X10\n",
              "PC3     X19\n",
              "PC4     X11\n",
              "PC5     X22\n",
              "PC6     X21\n",
              "PC7      X4\n",
              "PC8     X22\n",
              "PC9     X20\n",
              "PC10    X18\n",
              "dtype: object"
            ]
          },
          "metadata": {},
          "execution_count": 100
        }
      ]
    },
    {
      "cell_type": "markdown",
      "source": [
        "8. Elabora los histogramas de los atributos para visualizar su distribución"
      ],
      "metadata": {
        "id": "yFE0UwNTjKBc"
      }
    },
    {
      "cell_type": "code",
      "source": [
        "# Los histogramas se calcularon sobre las variables originales en los puntos 4 y 5 cuando se estaban analizando"
      ],
      "metadata": {
        "id": "hbKpu4WOiFP9"
      },
      "execution_count": null,
      "outputs": []
    },
    {
      "cell_type": "markdown",
      "source": [
        "9. Realiza la visualización de los datos usando por lo menos 3 gráficos que consideres adecuados: plot, scatter, jointplot, boxplot, areaplot, pie chart, pairplot, bar chart, etc."
      ],
      "metadata": {
        "id": "H4ArlEuYjOuA"
      }
    },
    {
      "cell_type": "code",
      "source": [
        "#En la siguiente gráfica podemos ver como cada PCA va aportando a la varianza\n",
        "import seaborn as sns\n",
        "import matplotlib as mpl\n",
        "import matplotlib.pyplot as plt\n",
        "\n",
        "PC_components = np.arange(pcs.n_components_) + 1\n",
        "#PC_components\n",
        "\n",
        "_ = sns.set(style = 'whitegrid', \n",
        "            font_scale = 1.2\n",
        "            )\n",
        "\n",
        "fig, ax = plt.subplots(figsize=(10, 7))\n",
        "\n",
        "_ = sns.barplot(x = PC_components, \n",
        "                y = pcs.explained_variance_ratio_, \n",
        "                color = 'b'\n",
        "                )\n",
        "\n",
        "_ = sns.lineplot(x = PC_components-1, \n",
        "                 y = np.cumsum(pcs.explained_variance_ratio_), \n",
        "                 color = 'black', \n",
        "                 linestyle = '-', \n",
        "                 linewidth = 2, \n",
        "                 marker = 'o', \n",
        "                 markersize = 8\n",
        "                 )\n",
        "\n",
        "plt.title('Scree Plot')\n",
        "plt.xlabel('N-th Principal Component')\n",
        "plt.ylabel('Variance Explained')\n",
        "plt.ylim(0, 1)\n",
        "plt.show()"
      ],
      "metadata": {
        "id": "PxVVcpUZiIBh",
        "colab": {
          "base_uri": "https://localhost:8080/",
          "height": 469
        },
        "outputId": "4b8f831b-764b-4f25-e962-f113d2aa6bda"
      },
      "execution_count": 101,
      "outputs": [
        {
          "output_type": "display_data",
          "data": {
            "text/plain": [
              "<Figure size 720x504 with 1 Axes>"
            ],
            "image/png": "[encoded data removed]"
          },
          "metadata": {}
        }
      ]
    },
    {
      "cell_type": "code",
      "source": [
        "# Pie chart, where the slices will be ordered and plotted counter-clockwise:\n",
        "labels = pcsComponents_df.iloc[:,:10].columns\n",
        "sizes = pcs.explained_variance_ratio_[0:10]\n",
        "\n",
        "fig1, ax1 = plt.subplots()\n",
        "ax1.pie(sizes, labels=labels, autopct='%1.1f%%',\n",
        "        shadow=True, startangle=90)\n",
        "ax1.axis('equal')  # Equal aspect ratio ensures that pie is drawn as a circle.\n",
        "\n",
        "plt.show()"
      ],
      "metadata": {
        "colab": {
          "base_uri": "https://localhost:8080/",
          "height": 248
        },
        "id": "wmAFJmqUxT0G",
        "outputId": "6fcd7070-3569-4abc-ec71-6134033f346b"
      },
      "execution_count": 125,
      "outputs": [
        {
          "output_type": "display_data",
          "data": {
            "text/plain": [
              "<Figure size 432x288 with 1 Axes>"
            ],
            "image/png": "[encoded data removed]"
          },
          "metadata": {}
        }
      ]
    },
    {
      "cell_type": "code",
      "source": [
        "x = np.arange(0, 2, 1)\n",
        "\n",
        "y1 = [pcs.explained_variance_ratio_[0:1]]\n",
        "y2 = [pcs.explained_variance_ratio_[1:2]]\n",
        "y3 = [pcs.explained_variance_ratio_[2:3]]\n",
        "y4 = [pcs.explained_variance_ratio_[3:4]]\n",
        "y5 = [pcs.explained_variance_ratio_[4:5]]\n",
        "y6 = pcs.explained_variance_ratio_[5:6]\n",
        "y7 = pcs.explained_variance_ratio_[6:7]\n",
        "y8 = pcs.explained_variance_ratio_[7:8]\n",
        "y9 = pcs.explained_variance_ratio_[8:9]\n",
        "y10 = pcs.explained_variance_ratio_[9:10]\n",
        "\n",
        "y = np.vstack([y1,y2,y3,y4,y5,y6,y7,y8,y9,y10])\n",
        "\n",
        "fig, ax = plt.subplots()\n",
        "ax.set(xlim=(0, 1), \n",
        "       ylim=(0, 1))\n",
        "ax.stackplot(x, y)\n",
        "\n",
        "plt.show()"
      ],
      "metadata": {
        "colab": {
          "base_uri": "https://localhost:8080/",
          "height": 276
        },
        "id": "PAH1HtoY0_km",
        "outputId": "72fd0606-e013-4d7f-9bf1-d461ad746863"
      },
      "execution_count": 159,
      "outputs": [
        {
          "output_type": "display_data",
          "data": {
            "text/plain": [
              "<Figure size 432x288 with 1 Axes>"
            ],
            "image/png": "[encoded data removed]"
          },
          "metadata": {}
        }
      ]
    },
    {
      "cell_type": "markdown",
      "source": [
        "10. Interpreta y explica cada uno de los gráficos indicando cuál es la información más relevante que podría ayudar en el proceso de toma de decisiones."
      ],
      "metadata": {
        "id": "uODDUN5WjTiq"
      }
    },
    {
      "cell_type": "code",
      "source": [
        "#Los 3 gráficos buscan, de manera visual diferente, mostrar las diferencias entre las varianzas que aporta cada uno de los PC y como de forma acumulativa van explicando cada vez más.\n",
        "#Sería util para la toma de decisiones ya que permite decidir informadamente cuantos y cuales PCA se desean utilizar para el modelado.\n",
        "#También al saber que variable original es la que tiene mayor peso en el PCA brinda de cierta manera una interpretación razonable sobre que variables están moviendo y pueden explicar\n",
        "#A veces saber esa información puede ayudar a enfocar un objetivo para las diferentes estrategias, por ejemplo en este caso vemos que la historia de pagos anteriores es muy importante"
      ],
      "metadata": {
        "id": "Ql29VK0Q4ZAN"
      },
      "execution_count": null,
      "outputs": []
    }
  ]
}